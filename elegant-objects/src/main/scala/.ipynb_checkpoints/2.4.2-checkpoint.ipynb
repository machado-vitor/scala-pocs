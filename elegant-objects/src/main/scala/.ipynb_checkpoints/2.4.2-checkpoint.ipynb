{
 "cells": [
  {
   "cell_type": "markdown",
   "id": "a44b8d50-1a26-48d2-8ebb-60183b5bccca",
   "metadata": {},
   "source": [
    "Manipulators are verbs"
   ]
  },
  {
   "cell_type": "code",
   "execution_count": null,
   "id": "a7bf79bd-8dfd-4892-ac3e-62faa30b6606",
   "metadata": {
    "editable": true,
    "slideshow": {
     "slide_type": ""
    },
    "tags": []
   },
   "outputs": [],
   "source": [
    "class Pixel {\n",
    "    void paint(Color color);\n",
    "}\n",
    "\n",
    "Pixel center = new Pixel(50, 50)\n",
    "center.paint(new Color(\"red\"))"
   ]
  },
  {
   "cell_type": "markdown",
   "id": "9f92977b-7f9c-4e9d-a8b6-4624a7be0dfc",
   "metadata": {},
   "source": [
    "When an object allows us to manipulate, the name has to be a verb, and there must be no return value."
   ]
  },
  {
   "cell_type": "markdown",
   "id": "7d3a4b9a-0918-4caf-9936-09879084ea5d",
   "metadata": {},
   "source": [
    "Examples of refactoring\n"
   ]
  },
  {
   "cell_type": "code",
   "execution_count": null,
   "id": "03b5b78d-5c46-42eb-bb73-5f3b74a1ee25",
   "metadata": {},
   "outputs": [],
   "source": [
    "class Document {\n",
    "    int write(InputStream content);\n",
    "}"
   ]
  },
  {
   "cell_type": "markdown",
   "id": "be597a8e-3e17-4c70-b22b-f90422d2aa06",
   "metadata": {},
   "source": []
  }
 ],
 "metadata": {
  "kernelspec": {
   "display_name": "Python 3 (ipykernel)",
   "language": "python",
   "name": "python3"
  },
  "language_info": {
   "codemirror_mode": {
    "name": "ipython",
    "version": 3
   },
   "file_extension": ".py",
   "mimetype": "text/x-python",
   "name": "python",
   "nbconvert_exporter": "python",
   "pygments_lexer": "ipython3",
   "version": "3.13.3"
  }
 },
 "nbformat": 4,
 "nbformat_minor": 5
}
