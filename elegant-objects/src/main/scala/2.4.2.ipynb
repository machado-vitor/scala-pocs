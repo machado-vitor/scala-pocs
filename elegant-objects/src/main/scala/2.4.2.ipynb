{
 "cells": [
  {
   "cell_type": "markdown",
   "id": "a44b8d50-1a26-48d2-8ebb-60183b5bccca",
   "metadata": {},
   "source": [
    "Manipulators are verbs"
   ]
  },
  {
   "cell_type": "markdown",
   "id": "427d3146b7634f0",
   "metadata": {},
   "source": []
  },
  {
   "cell_type": "code",
   "execution_count": null,
   "id": "f050769f4eb1a6a3",
   "metadata": {},
   "outputs": [],
   "source": [
    "class Pixel(x: Int, y: Int) {\n",
    "  def paint(color: Color): Unit = {\n",
    "    // Implementation here\n",
    "  }\n",
    "}\n",
    "\n",
    "val center = new Pixel(50, 50)\n",
    "center.paint(new Color(\"red\"))"
   ]
  },
  {
   "cell_type": "markdown",
   "id": "9f92977b-7f9c-4e9d-a8b6-4624a7be0dfc",
   "metadata": {},
   "source": [
    "When an object allows us to manipulate, the name has to be a verb, and there must be no return value."
   ]
  },
  {
   "cell_type": "markdown",
   "id": "7d3a4b9a-0918-4caf-9936-09879084ea5d",
   "metadata": {},
   "source": [
    "Examples of refactoring\n"
   ]
  },
  {
   "cell_type": "code",
   "execution_count": null,
   "id": "03b5b78d-5c46-42eb-bb73-5f3b74a1ee25",
   "metadata": {},
   "outputs": [],
   "source": [
    "class Document {\n",
    "  def write(content: InputStream): Unit = {\n",
    "    // Implementation here\n",
    "  }\n",
    "}"
   ]
  },
  {
   "cell_type": "markdown",
   "id": "c99ed9b67372db6b",
   "metadata": {},
   "source": [
    "The example above shows a Document class with a write method that serves as a manipulator. Following the principle, it has a verb name and returns Unit (void).\n",
    "\n",
    "However, what if we need to know how many bytes were saved? Let's refactor according to the principles:\n"
   ]
  },
  {
   "cell_type": "code",
   "id": "45a18c1cea944fd0",
   "metadata": {
    "ExecuteTime": {
     "end_time": "2025-06-24T23:05:07.040222Z",
     "start_time": "2025-06-24T23:05:06.041173Z"
    }
   },
   "source": [
    "// Problem: This violates our principle - a manipulator returning a value\n",
    "class DocumentProblem {\n",
    "  def write(content: java.io.InputStream): Int = {\n",
    "    // Implementation that writes and returns bytes written\n",
    "    42 // Dummy return for example\n",
    "  }\n",
    "}\n",
    "\n",
    "// Solution: Separate the concerns\n",
    "class Document {\n",
    "  def output(): OutputPipe = {\n",
    "    new OutputPipe()\n",
    "  }\n",
    "}\n",
    "\n",
    "class OutputPipe {\n",
    "  def write(content: java.io.InputStream): Unit = {\n",
    "    // Implementation here\n",
    "  }\n",
    "\n",
    "  def bytes: Int = {\n",
    "    // Return number of bytes written\n",
    "    42 // Dummy return for example\n",
    "  }\n",
    "\n",
    "  def time: Long = {\n",
    "    // Return time taken for writing\n",
    "    123L // Dummy return for example\n",
    "  }\n",
    "}\n",
    "\n",
    "// Usage example\n",
    "val doc = new Document()\n",
    "val pipe = doc.output()\n",
    "pipe.write(new java.io.ByteArrayInputStream(\"Hello\".getBytes))\n",
    "val bytesWritten = pipe.bytes\n",
    "val timeElapsed = pipe.time"
   ],
   "outputs": [
    {
     "data": {
      "text/plain": [
       "defined \u001B[32mclass\u001B[39m \u001B[36mDocumentProblem\u001B[39m\n",
       "defined \u001B[32mclass\u001B[39m \u001B[36mDocument\u001B[39m\n",
       "defined \u001B[32mclass\u001B[39m \u001B[36mOutputPipe\u001B[39m\n",
       "\u001B[36mdoc\u001B[39m: \u001B[32mDocument\u001B[39m = ammonite.$sess.cmd1$Helper$Document@58e67ec3\n",
       "\u001B[36mpipe\u001B[39m: \u001B[32mOutputPipe\u001B[39m = ammonite.$sess.cmd1$Helper$OutputPipe@3a133558\n",
       "\u001B[36mbytesWritten\u001B[39m: \u001B[32mInt\u001B[39m = \u001B[32m42\u001B[39m\n",
       "\u001B[36mtimeElapsed\u001B[39m: \u001B[32mLong\u001B[39m = \u001B[32m123L\u001B[39m"
      ]
     },
     "execution_count": 1,
     "metadata": {},
     "output_type": "execute_result"
    }
   ],
   "execution_count": 1
  },
  {
   "cell_type": "markdown",
   "id": "c4b6fb9684661a07",
   "metadata": {},
   "source": [
    "Notice how we've refactored to maintain the principle:\n",
    "1. `output()` is a builder - it returns a new object and has a noun name\n",
    "2. `write()` is a manipulator - it has a verb name and returns Unit\n",
    "3. `bytes` and `time` are builders - they have noun names and return values\n"
   ]
  },
  {
   "cell_type": "markdown",
   "id": "83c10a4029e2a08a",
   "metadata": {},
   "source": [
    "The Builder Pattern and its concerns\n"
   ]
  },
  {
   "cell_type": "code",
   "execution_count": null,
   "id": "e623cb6fab8c0254",
   "metadata": {},
   "outputs": [],
   "source": [
    "// Builder Pattern example (though the author recommends against it)\n",
    "class Book private (\n",
    "  val author: String = \"\",\n",
    "  val title: String = \"\",\n",
    "  val pages: List[String] = List.empty\n",
    ") {\n",
    "  def withAuthor(author: String): Book = {\n",
    "    new Book(author, title, pages)\n",
    "  }\n",
    "\n",
    "  def withTitle(title: String): Book = {\n",
    "    new Book(author, title, pages)\n",
    "  }\n",
    "\n",
    "  def withPage(page: String): Book = {\n",
    "    new Book(author, title, pages :+ page)\n",
    "  }\n",
    "}\n",
    "\n",
    "// Usage\n",
    "val myBook = new Book()\n",
    "  .withAuthor(\"John Doe\")\n",
    "  .withTitle(\"Clean Code\")\n",
    "  .withPage(\"Chapter 1\")"
   ]
  },
  {
   "cell_type": "markdown",
   "id": "d06fd3dbe0096873",
   "metadata": {},
   "source": [
    "The Builder Pattern methods follow the principle - they have noun-like names (with a prefix) and return values. However, as noted in the text, the author generally advises against this pattern as it often leads to less cohesive, larger objects.\n"
   ]
  },
  {
   "cell_type": "markdown",
   "id": "9c2033c59b2d5e28",
   "metadata": {},
   "source": [
    "A better approach to complex objects with many properties\n"
   ]
  },
  {
   "cell_type": "code",
   "execution_count": null,
   "id": "5e2353888cc96550",
   "metadata": {},
   "outputs": [],
   "source": [
    "// Instead of a large Book class with a builder, break it into smaller objects\n",
    "class Author(val name: String)\n",
    "class Title(val text: String)\n",
    "class Page(val content: String)\n",
    "\n",
    "class Book(val author: Author, val title: Title, val pages: List[Page]) {\n",
    "  def printInfo(): Unit = {\n",
    "    println(s\"${title.text} by ${author.name}, ${pages.size} pages\")\n",
    "  }\n",
    "}\n",
    "\n",
    "// Usage\n",
    "val book = new Book(\n",
    "  new Author(\"Jane Smith\"),\n",
    "  new Title(\"Elegant Objects\"),\n",
    "  List(new Page(\"Introduction\"), new Page(\"Chapter 1\"))\n",
    ")\n",
    "book.printInfo()"
   ]
  },
  {
   "cell_type": "markdown",
   "id": "1113e5d5c66f7ee3",
   "metadata": {},
   "source": [
    "This approach creates smaller, more focused objects rather than using the Builder Pattern for complex initialization.\n"
   ]
  },
  {
   "cell_type": "markdown",
   "id": "bbdf72493c66f09d",
   "metadata": {},
   "source": [
    "Avoiding Multiple Return Values\n"
   ]
  },
  {
   "cell_type": "code",
   "execution_count": null,
   "id": "afbb4638edcc4758",
   "metadata": {},
   "outputs": [],
   "source": [
    "// In some languages like Go, multiple returns might be used:\n",
    "// func write(content) (int bytes, int time) { ... }\n",
    "\n",
    "// In Scala, we isolate the concept in its own class\n",
    "class Transaction {\n",
    "  def execute(content: java.io.InputStream): Unit = {\n",
    "    // Execute the write operation\n",
    "  }\n",
    "\n",
    "  def statistics: Statistics = {\n",
    "    new Statistics(42, 123L) // bytes and time\n",
    "  }\n",
    "}\n",
    "\n",
    "class Statistics(val bytesWritten: Int, val executionTimeMs: Long)\n",
    "\n",
    "// Usage\n",
    "val transaction = new Transaction()\n",
    "transaction.execute(new java.io.ByteArrayInputStream(\"Data\".getBytes))\n",
    "val stats = transaction.statistics\n",
    "println(s\"Wrote ${stats.bytesWritten} bytes in ${stats.executionTimeMs}ms\")"
   ]
  },
  {
   "metadata": {},
   "cell_type": "markdown",
   "source": "## More Examples of Builders and Manipulators\n",
   "id": "6c1aa0da91310938"
  },
  {
   "metadata": {},
   "cell_type": "code",
   "outputs": [],
   "execution_count": null,
   "source": [
    "// Example: File operations\n",
    "class File(val path: String) {\n",
    "  // This is a builder - returns a value, has a noun name\n",
    "  def content: String = {\n",
    "    // Read the file content\n",
    "    scala.io.Source.fromFile(path).mkString\n",
    "  }\n",
    "\n",
    "  // This is a manipulator - performs an action, has a verb name, returns Unit\n",
    "  def rename(newName: String): Unit = {\n",
    "    // Implementation to rename the file\n",
    "    println(s\"Renamed to $newName\")\n",
    "  }\n",
    "\n",
    "  // INCORRECT: This violates the principle\n",
    "  def saveContent(text: String): Boolean = {\n",
    "    // Implementation that saves and returns success status\n",
    "    true\n",
    "  }\n",
    "\n",
    "  // CORRECT: Refactored approach\n",
    "  def writer: Writer = new Writer(path)\n",
    "}\n",
    "\n",
    "class Writer(path: String) {\n",
    "  // This is a manipulator - verb name, returns Unit\n",
    "  def write(content: String): Unit = {\n",
    "    // Implementation to write content\n",
    "    println(s\"Writing to $path\")\n",
    "  }\n",
    "\n",
    "  // This is a builder - noun name, returns a value\n",
    "  def success: Boolean = {\n",
    "    // Return whether the write was successful\n",
    "    true\n",
    "  }\n",
    "}\n",
    "\n",
    "// Usage examples\n",
    "val file = new File(\"/tmp/example.txt\")\n",
    "val content = file.content // Builder - returns the content\n",
    "\n",
    "file.rename(\"newfile.txt\") // Manipulator - performs an action\n",
    "\n",
    "// Incorrect approach - mixing concerns\n",
    "// val saved = file.saveContent(\"New text\")\n",
    "\n",
    "// Correct approach - separating concerns\n",
    "val writer = file.writer\n",
    "writer.write(\"New text\")\n",
    "val isSuccess = writer.success\n"
   ],
   "id": "ea17dc57bb1b9984"
  },
  {
   "metadata": {},
   "cell_type": "markdown",
   "source": [
    "## Why This Principle Matters\n",
    "\n",
    "This strict separation between builders and manipulators makes code:\n",
    "\n",
    "1. **More readable** - Method names clearly indicate what they do\n",
    "2. **More predictable** - Builders don't change state, manipulators don't return values\n",
    "3. **More maintainable** - Single responsibility principle applied at the method level\n",
    "4. **More testable** - Easier to test methods with clear, focused responsibilities\n"
   ],
   "id": "ca0fde3f89ca0bca"
  },
  {
   "metadata": {},
   "cell_type": "markdown",
   "source": [
    "## Handling Complex Cases\n",
    "\n",
    "Sometimes we need both information and manipulation. The solution is to create specific objects for each responsibility:\n"
   ],
   "id": "87c947d36339dff4"
  },
  {
   "metadata": {
    "ExecuteTime": {
     "end_time": "2025-06-24T23:12:05.135599Z",
     "start_time": "2025-06-24T23:12:04.864741Z"
    }
   },
   "cell_type": "code",
   "source": [
    "// Example: Managing a database connection\n",
    "class Database(url: String) {\n",
    "  // Builder - returns a connection object\n",
    "  def connection: Connection = {\n",
    "    new Connection(url)\n",
    "  }\n",
    "\n",
    "  // Builder - returns statistics object\n",
    "  def stats: Statistics = {\n",
    "    new Statistics(url)\n",
    "  }\n",
    "}\n",
    "\n",
    "class Connection(url: String) {\n",
    "  // Manipulator - executes a query\n",
    "  def execute(sql: String): Unit = {\n",
    "    println(s\"Executing $sql on $url\")\n",
    "  }\n",
    "\n",
    "  // Manipulator - closes the connection\n",
    "  def close(): Unit = {\n",
    "    println(\"Connection closed\")\n",
    "  }\n",
    "}\n",
    "\n",
    "class Statistics(url: String) {\n",
    "  // Builder - returns query count\n",
    "  def queryCount: Int = {\n",
    "    // Implementation to get query count\n",
    "    42\n",
    "  }\n",
    "\n",
    "  // Builder - returns connection time\n",
    "  def connectionTime: Long = {\n",
    "    // Implementation to get connection time\n",
    "    1000L\n",
    "  }\n",
    "}\n",
    "\n",
    "// Usage\n",
    "val db = new Database(\"jdbc:postgresql://localhost:5432/mydb\")\n",
    "val conn = db.connection\n",
    "conn.execute(\"SELECT * FROM users\")\n",
    "conn.close()\n",
    "\n",
    "val stats = db.stats\n",
    "println(s\"Executed ${stats.queryCount} queries\")\n",
    "println(s\"Connection time: ${stats.connectionTime}ms\")\n"
   ],
   "id": "7c89279a78570d0c",
   "outputs": [
    {
     "name": "stdout",
     "output_type": "stream",
     "text": [
      "Executing SELECT * FROM users on jdbc:postgresql://localhost:5432/mydb\n",
      "Connection closed\n",
      "Executed 42 queries\n",
      "Connection time: 1000ms\n"
     ]
    },
    {
     "data": {
      "text/plain": [
       "defined \u001B[32mclass\u001B[39m \u001B[36mDatabase\u001B[39m\n",
       "defined \u001B[32mclass\u001B[39m \u001B[36mConnection\u001B[39m\n",
       "defined \u001B[32mclass\u001B[39m \u001B[36mStatistics\u001B[39m\n",
       "\u001B[36mdb\u001B[39m: \u001B[32mDatabase\u001B[39m = ammonite.$sess.cmd3$Helper$Database@34c50ffc\n",
       "\u001B[36mconn\u001B[39m: \u001B[32mConnection\u001B[39m = ammonite.$sess.cmd3$Helper$Connection@58b5f40\n",
       "\u001B[36mstats\u001B[39m: \u001B[32mStatistics\u001B[39m = ammonite.$sess.cmd3$Helper$Statistics@18faf734"
      ]
     },
     "execution_count": 3,
     "metadata": {},
     "output_type": "execute_result"
    }
   ],
   "execution_count": 3
  },
  {
   "metadata": {},
   "cell_type": "markdown",
   "source": [
    "## Summary of Section 2.4.2\n",
    "\n",
    "1. **Manipulators** should:\n",
    "   - Have verb names (e.g., `save()`, `delete()`, `update()`)\n",
    "   - Return nothing (Unit in Scala)\n",
    "   - Change the state of the object or perform an action\n",
    "\n",
    "2. **Builders** should:\n",
    "   - Have noun names (e.g., `name()`, `size()`, `content()`)\n",
    "   - Return a value\n",
    "   - Not change the state of the object\n",
    "\n",
    "3. When you need both behaviors, **split the responsibilities** into separate objects or methods, but never mix them in a single method.\n",
    "\n",
    "4. This approach follows the **Single Responsibility Principle** at the method level, making code more maintainable and easier to understand.\n"
   ],
   "id": "96c8b1ee044cf385"
  }
 ],
 "metadata": {
  "kernelspec": {
   "display_name": "Scala",
   "language": "scala",
   "name": "scala"
  },
  "language_info": {
   "codemirror_mode": "text/x-scala",
   "file_extension": ".sc",
   "mimetype": "text/x-scala",
   "name": "scala",
   "nbconvert_exporter": "script",
   "version": "2.13.16"
  }
 },
 "nbformat": 4,
 "nbformat_minor": 5
}
