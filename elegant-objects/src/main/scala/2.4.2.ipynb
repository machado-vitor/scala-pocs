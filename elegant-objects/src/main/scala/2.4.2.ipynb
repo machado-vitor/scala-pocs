{
 "cells": [
  {
   "cell_type": "markdown",
   "id": "a44b8d50-1a26-48d2-8ebb-60183b5bccca",
   "metadata": {},
   "source": [
    "Manipulators are verbs"
   ]
  },
  {
   "metadata": {},
   "cell_type": "markdown",
   "source": "",
   "id": "427d3146b7634f0"
  },
  {
   "metadata": {},
   "cell_type": "code",
   "outputs": [],
   "execution_count": null,
   "source": [
    "class Pixel(x: Int, y: Int) {\n",
    "  def paint(color: Color): Unit = {\n",
    "    // Implementation here\n",
    "  }\n",
    "}\n",
    "\n",
    "val center = new Pixel(50, 50)\n",
    "center.paint(new Color(\"red\"))"
   ],
   "id": "f050769f4eb1a6a3"
  },
  {
   "cell_type": "markdown",
   "id": "9f92977b-7f9c-4e9d-a8b6-4624a7be0dfc",
   "metadata": {},
   "source": [
    "When an object allows us to manipulate, the name has to be a verb, and there must be no return value."
   ]
  },
  {
   "cell_type": "markdown",
   "id": "7d3a4b9a-0918-4caf-9936-09879084ea5d",
   "metadata": {},
   "source": [
    "Examples of refactoring\n"
   ]
  },
  {
   "cell_type": "code",
   "execution_count": null,
   "id": "03b5b78d-5c46-42eb-bb73-5f3b74a1ee25",
   "metadata": {},
   "outputs": [],
   "source": [
    "class Document {\n",
    "  def write(content: InputStream): Unit = {\n",
    "    // Implementation here\n",
    "  }\n",
    "}"
   ]
  },
  {
   "metadata": {},
   "cell_type": "markdown",
   "source": [
    "The example above shows a Document class with a write method that serves as a manipulator. Following the principle, it has a verb name and returns Unit (void).\n",
    "\n",
    "However, what if we need to know how many bytes were saved? Let's refactor according to the principles:\n"
   ],
   "id": "c99ed9b67372db6b"
  },
  {
   "metadata": {},
   "cell_type": "code",
   "outputs": [],
   "execution_count": null,
   "source": [
    "// Problem: This violates our principle - a manipulator returning a value\n",
    "class DocumentProblem {\n",
    "  def write(content: java.io.InputStream): Int = {\n",
    "    // Implementation that writes and returns bytes written\n",
    "    42 // Dummy return for example\n",
    "  }\n",
    "}\n",
    "\n",
    "// Solution: Separate the concerns\n",
    "class Document {\n",
    "  def output(): OutputPipe = {\n",
    "    new OutputPipe()\n",
    "  }\n",
    "}\n",
    "\n",
    "class OutputPipe {\n",
    "  def write(content: java.io.InputStream): Unit = {\n",
    "    // Implementation here\n",
    "  }\n",
    "\n",
    "  def bytes: Int = {\n",
    "    // Return number of bytes written\n",
    "    42 // Dummy return for example\n",
    "  }\n",
    "\n",
    "  def time: Long = {\n",
    "    // Return time taken for writing\n",
    "    123L // Dummy return for example\n",
    "  }\n",
    "}\n",
    "\n",
    "// Usage example\n",
    "val doc = new Document()\n",
    "val pipe = doc.output()\n",
    "pipe.write(new java.io.ByteArrayInputStream(\"Hello\".getBytes))\n",
    "val bytesWritten = pipe.bytes\n",
    "val timeElapsed = pipe.time"
   ],
   "id": "45a18c1cea944fd0"
  },
  {
   "metadata": {},
   "cell_type": "markdown",
   "source": [
    "Notice how we've refactored to maintain the principle:\n",
    "1. `output()` is a builder - it returns a new object and has a noun name\n",
    "2. `write()` is a manipulator - it has a verb name and returns Unit\n",
    "3. `bytes` and `time` are builders - they have noun names and return values\n"
   ],
   "id": "c4b6fb9684661a07"
  },
  {
   "metadata": {},
   "cell_type": "markdown",
   "source": "The Builder Pattern and its concerns\n",
   "id": "83c10a4029e2a08a"
  },
  {
   "metadata": {},
   "cell_type": "code",
   "outputs": [],
   "execution_count": null,
   "source": [
    "// Builder Pattern example (though the author recommends against it)\n",
    "class Book private (\n",
    "  val author: String = \"\",\n",
    "  val title: String = \"\",\n",
    "  val pages: List[String] = List.empty\n",
    ") {\n",
    "  def withAuthor(author: String): Book = {\n",
    "    new Book(author, title, pages)\n",
    "  }\n",
    "\n",
    "  def withTitle(title: String): Book = {\n",
    "    new Book(author, title, pages)\n",
    "  }\n",
    "\n",
    "  def withPage(page: String): Book = {\n",
    "    new Book(author, title, pages :+ page)\n",
    "  }\n",
    "}\n",
    "\n",
    "// Usage\n",
    "val myBook = new Book()\n",
    "  .withAuthor(\"John Doe\")\n",
    "  .withTitle(\"Clean Code\")\n",
    "  .withPage(\"Chapter 1\")"
   ],
   "id": "e623cb6fab8c0254"
  },
  {
   "metadata": {},
   "cell_type": "markdown",
   "source": "The Builder Pattern methods follow the principle - they have noun-like names (with a prefix) and return values. However, as noted in the text, the author generally advises against this pattern as it often leads to less cohesive, larger objects.\n",
   "id": "d06fd3dbe0096873"
  },
  {
   "metadata": {},
   "cell_type": "markdown",
   "source": "A better approach to complex objects with many properties\n",
   "id": "9c2033c59b2d5e28"
  },
  {
   "metadata": {},
   "cell_type": "code",
   "outputs": [],
   "execution_count": null,
   "source": [
    "// Instead of a large Book class with a builder, break it into smaller objects\n",
    "class Author(val name: String)\n",
    "class Title(val text: String)\n",
    "class Page(val content: String)\n",
    "\n",
    "class Book(val author: Author, val title: Title, val pages: List[Page]) {\n",
    "  def printInfo(): Unit = {\n",
    "    println(s\"${title.text} by ${author.name}, ${pages.size} pages\")\n",
    "  }\n",
    "}\n",
    "\n",
    "// Usage\n",
    "val book = new Book(\n",
    "  new Author(\"Jane Smith\"),\n",
    "  new Title(\"Elegant Objects\"),\n",
    "  List(new Page(\"Introduction\"), new Page(\"Chapter 1\"))\n",
    ")\n",
    "book.printInfo()"
   ],
   "id": "5e2353888cc96550"
  },
  {
   "metadata": {},
   "cell_type": "markdown",
   "source": "This approach creates smaller, more focused objects rather than using the Builder Pattern for complex initialization.\n",
   "id": "1113e5d5c66f7ee3"
  },
  {
   "metadata": {},
   "cell_type": "markdown",
   "source": "Avoiding Multiple Return Values\n",
   "id": "bbdf72493c66f09d"
  },
  {
   "metadata": {},
   "cell_type": "code",
   "outputs": [],
   "execution_count": null,
   "source": [
    "// In some languages like Go, multiple returns might be used:\n",
    "// func write(content) (int bytes, int time) { ... }\n",
    "\n",
    "// In Scala, we isolate the concept in its own class\n",
    "class Transaction {\n",
    "  def execute(content: java.io.InputStream): Unit = {\n",
    "    // Execute the write operation\n",
    "  }\n",
    "\n",
    "  def statistics: Statistics = {\n",
    "    new Statistics(42, 123L) // bytes and time\n",
    "  }\n",
    "}\n",
    "\n",
    "class Statistics(val bytesWritten: Int, val executionTimeMs: Long)\n",
    "\n",
    "// Usage\n",
    "val transaction = new Transaction()\n",
    "transaction.execute(new java.io.ByteArrayInputStream(\"Data\".getBytes))\n",
    "val stats = transaction.statistics\n",
    "println(s\"Wrote ${stats.bytesWritten} bytes in ${stats.executionTimeMs}ms\")"
   ],
   "id": "afbb4638edcc4758"
  },
  {
   "metadata": {},
   "cell_type": "markdown",
   "source": "By following these principles consistently, we create more focused objects with clearer responsibilities, making the code more maintainable and easier to understand.\n",
   "id": "700c96294e207271"
  },
  {
   "metadata": {},
   "cell_type": "markdown",
   "source": [
    "Summary:\n",
    "1. Manipulators have verb names and return nothing (Unit in Scala)\n",
    "2. Builders have noun names and return values\n",
    "3. Keep methods focused on a single responsibility\n",
    "4. Prefer smaller, more cohesive objects over large complex ones\n"
   ],
   "id": "505e20f61a71297e"
  }
 ],
 "metadata": {
  "kernelspec": {
   "display_name": "Python 3 (ipykernel)",
   "language": "python",
   "name": "python3"
  },
  "language_info": {
   "codemirror_mode": {
    "name": "ipython",
    "version": 3
   },
   "file_extension": ".py",
   "mimetype": "text/x-python",
   "name": "python",
   "nbconvert_exporter": "python",
   "pygments_lexer": "ipython3",
   "version": "3.13.3"
  }
 },
 "nbformat": 4,
 "nbformat_minor": 5
}
