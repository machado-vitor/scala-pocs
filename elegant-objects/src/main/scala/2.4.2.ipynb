{
 "cells": [
  {
   "cell_type": "markdown",
   "id": "a44b8d50-1a26-48d2-8ebb-60183b5bccca",
   "metadata": {},
   "source": [
    "Manipulators are verbs"
   ]
  },
  {
   "metadata": {},
   "cell_type": "markdown",
   "source": "",
   "id": "427d3146b7634f0"
  },
  {
   "metadata": {},
   "cell_type": "code",
   "outputs": [],
   "execution_count": null,
   "source": [
    "class Pixel(x: Int, y: Int) {\n",
    "  def paint(color: Color): Unit = {\n",
    "    // Implementation here\n",
    "  }\n",
    "}\n",
    "\n",
    "val center = new Pixel(50, 50)\n",
    "center.paint(new Color(\"red\"))"
   ],
   "id": "f050769f4eb1a6a3"
  },
  {
   "cell_type": "markdown",
   "id": "9f92977b-7f9c-4e9d-a8b6-4624a7be0dfc",
   "metadata": {},
   "source": [
    "When an object allows us to manipulate, the name has to be a verb, and there must be no return value."
   ]
  },
  {
   "cell_type": "markdown",
   "id": "7d3a4b9a-0918-4caf-9936-09879084ea5d",
   "metadata": {},
   "source": [
    "Examples of refactoring\n"
   ]
  },
  {
   "cell_type": "code",
   "execution_count": null,
   "id": "03b5b78d-5c46-42eb-bb73-5f3b74a1ee25",
   "metadata": {},
   "outputs": [],
   "source": [
    "class Document {\n",
    "  def write(content: InputStream): Unit = {\n",
    "    // Implementation here\n",
    "  }\n",
    "}"
   ]
  },
  {
   "metadata": {},
   "cell_type": "markdown",
   "source": "",
   "id": "b34be4aa2aa14659"
  }
 ],
 "metadata": {
  "kernelspec": {
   "display_name": "Python 3 (ipykernel)",
   "language": "python",
   "name": "python3"
  },
  "language_info": {
   "codemirror_mode": {
    "name": "ipython",
    "version": 3
   },
   "file_extension": ".py",
   "mimetype": "text/x-python",
   "name": "python",
   "nbconvert_exporter": "python",
   "pygments_lexer": "ipython3",
   "version": "3.13.3"
  }
 },
 "nbformat": 4,
 "nbformat_minor": 5
}
