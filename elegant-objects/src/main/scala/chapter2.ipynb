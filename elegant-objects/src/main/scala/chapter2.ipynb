{
 "cells": [
  {
   "cell_type": "markdown",
   "id": "a44b8d50-1a26-48d2-8ebb-60183b5bccca",
   "metadata": {},
   "source": [
    "Manipulators are verbs"
   ]
  },
  {
   "cell_type": "code",
   "execution_count": null,
   "id": "f050769f4eb1a6a3",
   "metadata": {
    "ExecuteTime": {
     "end_time": "2025-06-25T10:31:13.112220Z",
     "start_time": "2025-06-25T10:31:12.820940Z"
    }
   },
   "outputs": [],
   "source": [
    "class Color(str: String = \"\")\n",
    "\n",
    "class Pixel(x: Int, y: Int) {\n",
    "  def paint(color: Color): Unit = {\n",
    "    // Implementation here\n",
    "  }\n",
    "}\n",
    "\n",
    "val center = new Pixel(50, 50)\n",
    "center.paint(new Color(\"red\"))"
   ]
  },
  {
   "cell_type": "markdown",
   "id": "9f92977b-7f9c-4e9d-a8b6-4624a7be0dfc",
   "metadata": {},
   "source": [
    "When an object allows us to manipulate, the name has to be a verb, and there must be no return value."
   ]
  },
  {
   "cell_type": "markdown",
   "id": "7d3a4b9a-0918-4caf-9936-09879084ea5d",
   "metadata": {},
   "source": [
    "Examples of refactoring\n"
   ]
  },
  {
   "cell_type": "code",
   "execution_count": 1,
   "id": "03b5b78d-5c46-42eb-bb73-5f3b74a1ee25",
   "metadata": {
    "ExecuteTime": {
     "end_time": "2025-06-25T10:31:10.472986Z",
     "start_time": "2025-06-25T10:31:09.796093Z"
    }
   },
   "outputs": [
    {
     "data": {
      "text/plain": [
       "defined \u001B[32mclass\u001B[39m \u001B[36mDocument\u001B[39m"
      ]
     },
     "execution_count": 1,
     "metadata": {},
     "output_type": "execute_result"
    }
   ],
   "source": [
    "class Document {\n",
    "  def write(content: java.io.InputStream): Unit = {\n",
    "    // Implementation here\n",
    "  }\n",
    "}"
   ]
  },
  {
   "cell_type": "markdown",
   "id": "c99ed9b67372db6b",
   "metadata": {},
   "source": [
    "The example above shows a Document class with a write method that serves as a manipulator. Following the principle, it has a verb name and returns Unit (void).\n",
    "\n",
    "However, what if we need to know how many bytes were saved? Let's refactor according to the principles:\n"
   ]
  },
  {
   "cell_type": "code",
   "execution_count": 1,
   "id": "45a18c1cea944fd0",
   "metadata": {
    "ExecuteTime": {
     "end_time": "2025-06-24T23:05:07.040222Z",
     "start_time": "2025-06-24T23:05:06.041173Z"
    }
   },
   "outputs": [
    {
     "data": {
      "text/plain": [
       "defined \u001B[32mclass\u001B[39m \u001B[36mDocumentProblem\u001B[39m\n",
       "defined \u001B[32mclass\u001B[39m \u001B[36mDocument\u001B[39m\n",
       "defined \u001B[32mclass\u001B[39m \u001B[36mOutputPipe\u001B[39m\n",
       "\u001B[36mdoc\u001B[39m: \u001B[32mDocument\u001B[39m = ammonite.$sess.cmd1$Helper$Document@58e67ec3\n",
       "\u001B[36mpipe\u001B[39m: \u001B[32mOutputPipe\u001B[39m = ammonite.$sess.cmd1$Helper$OutputPipe@3a133558\n",
       "\u001B[36mbytesWritten\u001B[39m: \u001B[32mInt\u001B[39m = \u001B[32m42\u001B[39m\n",
       "\u001B[36mtimeElapsed\u001B[39m: \u001B[32mLong\u001B[39m = \u001B[32m123L\u001B[39m"
      ]
     },
     "execution_count": 1,
     "metadata": {},
     "output_type": "execute_result"
    }
   ],
   "source": [
    "// Problem: This violates our principle - a manipulator returning a value\n",
    "class DocumentProblem {\n",
    "  def write(content: java.io.InputStream): Int = {\n",
    "    // Implementation that writes and returns bytes written\n",
    "    42 // Dummy return for example\n",
    "  }\n",
    "}\n",
    "\n",
    "// Solution: Separate the concerns\n",
    "class Document {\n",
    "  def output(): OutputPipe = {\n",
    "    new OutputPipe()\n",
    "  }\n",
    "}\n",
    "\n",
    "class OutputPipe {\n",
    "  def write(content: java.io.InputStream): Unit = {\n",
    "    // Implementation here\n",
    "  }\n",
    "\n",
    "  def bytes: Int = {\n",
    "    // Return number of bytes written\n",
    "    42 // Dummy return for example\n",
    "  }\n",
    "\n",
    "  def time: Long = {\n",
    "    // Return time taken for writing\n",
    "    123L // Dummy return for example\n",
    "  }\n",
    "}\n",
    "\n",
    "// Usage example\n",
    "val doc = new Document()\n",
    "val pipe = doc.output()\n",
    "pipe.write(new java.io.ByteArrayInputStream(\"Hello\".getBytes))\n",
    "val bytesWritten = pipe.bytes\n",
    "val timeElapsed = pipe.time"
   ]
  },
  {
   "cell_type": "markdown",
   "id": "c4b6fb9684661a07",
   "metadata": {},
   "source": [
    "Notice how we've refactored to maintain the principle:\n",
    "1. `output()` is a builder - it returns a new object and has a noun name\n",
    "2. `write()` is a manipulator - it has a verb name and returns Unit\n",
    "3. `bytes` and `time` are builders - they have noun names and return values\n"
   ]
  },
  {
   "cell_type": "markdown",
   "id": "83c10a4029e2a08a",
   "metadata": {},
   "source": [
    "The Builder Pattern and its concerns\n"
   ]
  },
  {
   "cell_type": "code",
   "execution_count": null,
   "id": "e623cb6fab8c0254",
   "metadata": {},
   "outputs": [],
   "source": [
    "// Builder Pattern example (though the author recommends against it)\n",
    "class Book private (\n",
    "  val author: String = \"\",\n",
    "  val title: String = \"\",\n",
    "  val pages: List[String] = List.empty\n",
    ") {\n",
    "  def withAuthor(author: String): Book = {\n",
    "    new Book(author, title, pages)\n",
    "  }\n",
    "\n",
    "  def withTitle(title: String): Book = {\n",
    "    new Book(author, title, pages)\n",
    "  }\n",
    "\n",
    "  def withPage(page: String): Book = {\n",
    "    new Book(author, title, pages :+ page)\n",
    "  }\n",
    "}\n",
    "\n",
    "// Usage\n",
    "val myBook = new Book()\n",
    "  .withAuthor(\"John Doe\")\n",
    "  .withTitle(\"Clean Code\")\n",
    "  .withPage(\"Chapter 1\")"
   ]
  },
  {
   "cell_type": "markdown",
   "id": "d06fd3dbe0096873",
   "metadata": {},
   "source": [
    "The Builder Pattern methods follow the principle - they have noun-like names (with a prefix) and return values. However, as noted in the text, the author generally advises against this pattern as it often leads to less cohesive, larger objects.\n"
   ]
  },
  {
   "cell_type": "markdown",
   "id": "9c2033c59b2d5e28",
   "metadata": {},
   "source": [
    "A better approach to complex objects with many properties\n"
   ]
  },
  {
   "cell_type": "code",
   "execution_count": null,
   "id": "5e2353888cc96550",
   "metadata": {},
   "outputs": [],
   "source": [
    "// Instead of a large Book class with a builder, break it into smaller objects\n",
    "class Author(val name: String)\n",
    "class Title(val text: String)\n",
    "class Page(val content: String)\n",
    "\n",
    "class Book(val author: Author, val title: Title, val pages: List[Page]) {\n",
    "  def printInfo(): Unit = {\n",
    "    println(s\"${title.text} by ${author.name}, ${pages.size} pages\")\n",
    "  }\n",
    "}\n",
    "\n",
    "// Usage\n",
    "val book = new Book(\n",
    "  new Author(\"Jane Smith\"),\n",
    "  new Title(\"Elegant Objects\"),\n",
    "  List(new Page(\"Introduction\"), new Page(\"Chapter 1\"))\n",
    ")\n",
    "book.printInfo()"
   ]
  },
  {
   "cell_type": "markdown",
   "id": "1113e5d5c66f7ee3",
   "metadata": {},
   "source": [
    "This approach creates smaller, more focused objects rather than using the Builder Pattern for complex initialization.\n"
   ]
  },
  {
   "cell_type": "markdown",
   "id": "ca0fde3f89ca0bca",
   "metadata": {},
   "source": [
    "## Why This Principle Matters\n",
    "\n",
    "This strict separation between builders and manipulators makes code:\n",
    "\n",
    "1. **More readable** - Method names clearly indicate what they do\n",
    "2. **More predictable** - Builders don't change state, manipulators don't return values\n",
    "3. **More maintainable** - Single responsibility principle applied at the method level\n",
    "4. **More testable** - Easier to test methods with clear, focused responsibilities\n"
   ]
  },
  {
   "cell_type": "markdown",
   "id": "87c947d36339dff4",
   "metadata": {},
   "source": [
    "## Handling Complex Cases\n",
    "\n",
    "Sometimes we need both information and manipulation. The solution is to create specific objects for each responsibility:\n"
   ]
  },
  {
   "cell_type": "code",
   "execution_count": 2,
   "id": "7c89279a78570d0c",
   "metadata": {
    "ExecuteTime": {
     "end_time": "2025-06-25T11:12:02.884720Z",
     "start_time": "2025-06-25T11:12:02.385850Z"
    }
   },
   "outputs": [
    {
     "name": "stdout",
     "output_type": "stream",
     "text": [
      "Executing SELECT * FROM users on jdbc:postgresql://localhost:5432/mydb\n",
      "Connection closed\n",
      "Executed 42 queries\n",
      "Connection time: 1000ms\n"
     ]
    },
    {
     "data": {
      "text/plain": [
       "defined \u001B[32mclass\u001B[39m \u001B[36mDatabase\u001B[39m\n",
       "defined \u001B[32mclass\u001B[39m \u001B[36mConnection\u001B[39m\n",
       "defined \u001B[32mclass\u001B[39m \u001B[36mStatistics\u001B[39m\n",
       "\u001B[36mdb\u001B[39m: \u001B[32mDatabase\u001B[39m = ammonite.$sess.cmd2$Helper$Database@87065b0\n",
       "\u001B[36mconn\u001B[39m: \u001B[32mConnection\u001B[39m = ammonite.$sess.cmd2$Helper$Connection@13a93ecd\n",
       "\u001B[36mstats\u001B[39m: \u001B[32mStatistics\u001B[39m = ammonite.$sess.cmd2$Helper$Statistics@6aacd07a"
      ]
     },
     "execution_count": 2,
     "metadata": {},
     "output_type": "execute_result"
    }
   ],
   "source": [
    "// Example: Managing a database connection\n",
    "class Database(url: String) {\n",
    "  // Builder - returns a connection object\n",
    "  def connection: Connection = {\n",
    "    new Connection(url)\n",
    "  }\n",
    "\n",
    "  // Builder - returns statistics object\n",
    "  def stats: Statistics = {\n",
    "    new Statistics(url)\n",
    "  }\n",
    "}\n",
    "\n",
    "class Connection(url: String) {\n",
    "  // Manipulator - executes a query\n",
    "  def execute(sql: String): Unit = {\n",
    "    println(s\"Executing $sql on $url\")\n",
    "  }\n",
    "\n",
    "  // Manipulator - closes the connection\n",
    "  def close(): Unit = {\n",
    "    println(\"Connection closed\")\n",
    "  }\n",
    "}\n",
    "\n",
    "class Statistics(url: String) {\n",
    "  // Builder - returns query count\n",
    "  def queryCount: Int = {\n",
    "    // Implementation to get query count\n",
    "    42\n",
    "  }\n",
    "\n",
    "  // Builder - returns connection time\n",
    "  def connectionTime: Long = {\n",
    "    // Implementation to get connection time\n",
    "    1000L\n",
    "  }\n",
    "}\n",
    "\n",
    "// Usage\n",
    "val db = new Database(\"jdbc:postgresql://localhost:5432/mydb\")\n",
    "val conn = db.connection\n",
    "conn.execute(\"SELECT * FROM users\")\n",
    "conn.close()\n",
    "\n",
    "val stats = db.stats\n",
    "println(s\"Executed ${stats.queryCount} queries\")\n",
    "println(s\"Connection time: ${stats.connectionTime}ms\")\n"
   ]
  },
  {
   "cell_type": "markdown",
   "id": "a04f6a4f0e526414",
   "metadata": {},
   "source": [
    "### Boolean Results\n",
    "\n",
    "Boolean methods are an exception to the naming rules. They are builders (they return values), but instead of using nouns, they should use adjectives:\n"
   ]
  },
  {
   "cell_type": "code",
   "id": "852b19bb47926733",
   "metadata": {
    "ExecuteTime": {
     "end_time": "2025-08-28T13:06:26.345514Z",
     "start_time": "2025-08-28T13:06:25.052629Z"
    }
   },
   "source": [
    "class File(path: String) {\n",
    "  // Good: Using adjectives for Boolean methods\n",
    "  def empty: Boolean = {\n",
    "    // Implementation to check if file is empty\n",
    "    true\n",
    "  }\n",
    "\n",
    "  def readable: Boolean = {\n",
    "    // Implementation to check if file is readable\n",
    "    true\n",
    "  }\n",
    "\n",
    "  def present: Boolean = {\n",
    "    // Better than \"exists\" - \"is present\" sounds right\n",
    "    true\n",
    "  }\n",
    "\n",
    "  // Bad examples (would be better as adjectives)\n",
    "  def isEmpty: Boolean = empty // Not recommended - redundant \"is\" prefix\n",
    "  def exists: Boolean = present // Not recommended - use \"present\" instead\n",
    "}\n",
    "\n",
    "case class User(name: String, age: Int) {\n",
    "  // Good: \"equal to\" sounds right\n",
    "  def equalTo(other: User): Boolean = {\n",
    "    this.name == other.name && this.age == other.age\n",
    "  }\n",
    "\n",
    "  // Good: adjective for Boolean result\n",
    "  def adult: Boolean = {\n",
    "    age >= 18\n",
    "  }\n",
    "}\n",
    "\n",
    "// Usage examples showing natural reading in conditionals\n",
    "val file = new File(\"/tmp/data.txt\")\n",
    "val user = new User(\"John\", 25)\n",
    "val otherUser = new User(\"Jane\", 30)\n",
    "\n",
    "if (file.empty) {\n",
    "  println(\"The file is empty\") // Reads naturally: \"if file is empty\"\n",
    "}\n",
    "\n",
    "if (file.readable) {\n",
    "  println(\"The file can be read\") // Reads naturally: \"if file is readable\"\n",
    "}\n",
    "\n",
    "if (user.adult) {\n",
    "  println(\"User is an adult\") // Reads naturally: \"if user is adult\"\n",
    "}\n",
    "\n",
    "if (user.equalTo(otherUser)) {\n",
    "  println(\"Users are the same\") // Reads naturally: \"if user is equal to other user\"\n",
    "}\n"
   ],
   "outputs": [
    {
     "name": "stdout",
     "output_type": "stream",
     "text": [
      "The file is empty\n",
      "The file can be read\n",
      "User is an adult\n"
     ]
    },
    {
     "data": {
      "text/plain": [
       "defined \u001B[32mclass\u001B[39m \u001B[36mFile\u001B[39m\n",
       "defined \u001B[32mclass\u001B[39m \u001B[36mUser\u001B[39m\n",
       "\u001B[36mfile\u001B[39m: \u001B[32mFile\u001B[39m = ammonite.$sess.cmd1$Helper$File@782f660d\n",
       "\u001B[36muser\u001B[39m: \u001B[32mUser\u001B[39m = \u001B[33mUser\u001B[39m(name = \u001B[32m\"John\"\u001B[39m, age = \u001B[32m25\u001B[39m)\n",
       "\u001B[36motherUser\u001B[39m: \u001B[32mUser\u001B[39m = \u001B[33mUser\u001B[39m(name = \u001B[32m\"Jane\"\u001B[39m, age = \u001B[32m30\u001B[39m)"
      ]
     },
     "execution_count": 1,
     "metadata": {},
     "output_type": "execute_result"
    }
   ],
   "execution_count": 1
  },
  {
   "metadata": {},
   "cell_type": "markdown",
   "source": [
    "## Summary of Boolean Method Naming Rules\n",
    "\n",
    "1. **Boolean methods are builders** (they return values)\n",
    "2. **Use adjectives for Boolean methods**, not nouns or verbs\n",
    "3. **Don't use the \"is\" prefix** in the method name\n",
    "4. **Test readability** by mentally placing \"is\" before the name - it should sound correct\n",
    "5. **Examples of good names**:\n",
    "   - `empty()` instead of `isEmpty()`\n",
    "   - `readable()` instead of `canRead()`\n",
    "   - `negative()` instead of `isNegative()`\n",
    "   - `equalTo(obj)` instead of `equals(obj)`\n",
    "   - `present()` instead of `exists()`\n",
    "\n",
    "This naming convention makes conditionals read more naturally, as the Boolean methods essentially answer the question \"is this object [adjective]?\""
   ],
   "id": "3cc49e09fad9c78f"
  },
  {
   "metadata": {},
   "cell_type": "markdown",
   "source": [
    "## 2.5 Don't use public constants\n",
    "\n",
    "Public constants create global coupling and reduce cohesion.\n",
    "Prefer keeping values private to the class that uses them, or pass them in as small objects (dependencies) instead of sharing a global constant."
   ],
   "id": "f25e28edeacbc292"
  },
  {
   "metadata": {
    "ExecuteTime": {
     "end_time": "2025-08-28T13:29:52.372648Z",
     "start_time": "2025-08-28T13:29:49.216Z"
    }
   },
   "cell_type": "code",
   "source": [
    "// Bad example: global constant-like object (avoid)\n",
    "object ConstantsBad {\n",
    "  val CrLf: String = \"\\r\\n\"\n",
    "}\n",
    "\n",
    "class RowsBad2(private val all: List[String]) {\n",
    "  def print(p: java.io.PrintStream): Unit = {\n",
    "    all.foreach { row => p.printf(\"{%s}%s\", row, ConstantsBad.CrLf) }\n",
    "  }\n",
    "}"
   ],
   "id": "54ee1a9748dea62b",
   "outputs": [
    {
     "data": {
      "text/plain": [
       "defined \u001B[32mobject\u001B[39m \u001B[36mConstantsBad\u001B[39m\n",
       "defined \u001B[32mclass\u001B[39m \u001B[36mRowsBad2\u001B[39m"
      ]
     },
     "execution_count": 1,
     "metadata": {},
     "output_type": "execute_result"
    }
   ],
   "execution_count": 1
  },
  {
   "metadata": {},
   "cell_type": "markdown",
   "source": [
    "Better alternatives:\n",
    "\n",
    "- Keep the value private and local to the class.\n",
    "- Or encapsulate the value as an object and inject it."
   ],
   "id": "3445e185568f9dba"
  },
  {
   "metadata": {},
   "cell_type": "code",
   "outputs": [],
   "execution_count": null,
   "source": [
    "class Rows2(private val all: List[String]) {\n",
    "  private val CrLf: String = \"\\r\\n\"\n",
    "  def print(p: java.io.PrintStream): Unit =\n",
    "    all.foreach { row => p.printf(\"{%s}%s\", row, CrLf) }\n",
    "}\n",
    "\n",
    "trait LineSeparator { def value: String }\n",
    "class CrLf extends LineSeparator { val value = \"\\r\\n\" }\n",
    "class Lf extends LineSeparator { val value = \"\\n\" }\n",
    "\n",
    "class Records2(private val all: List[String], private val sep: LineSeparator) {\n",
    "  def write(out: java.io.Writer): Unit = {\n",
    "    all.foreach { rec =>\n",
    "      out.write(rec)\n",
    "      out.write(sep.value)\n",
    "    }\n",
    "  }\n",
    "}"
   ],
   "id": "aa62aa428afa58f2"
  },
  {
   "metadata": {},
   "cell_type": "markdown",
   "source": [
    "## 2.5.1 Introduction of coupling\n",
    "\n",
    "Public constants introduce hidden, hard-coded dependencies. When multiple classes reach out to a shared global value, they become tightly coupled to it and to each other, making behavior changes unpredictable.\n",
    "\n",
    "Consider these two classes that both rely on a shared line separator constant:\n"
   ],
   "id": "c861b7d0fcac6d12"
  },
  {
   "metadata": {},
   "cell_type": "code",
   "outputs": [],
   "execution_count": null,
   "source": [
    "// Bad: shared global constant couples unrelated classes to the same value\n",
    "object ConstantsGlobal {\n",
    "  val CrLf: String = \"\\r\\n\"\n",
    "}\n",
    "\n",
    "class RecordsCoupled(private val all: List[String]) {\n",
    "  def write(out: java.io.Writer): Unit = {\n",
    "    all.foreach { rec =>\n",
    "      out.write(rec)\n",
    "      out.write(ConstantsGlobal.CrLf) // hard dependency here\n",
    "    }\n",
    "  }\n",
    "}\n",
    "\n",
    "class RowsCoupled(private val all: List[String]) {\n",
    "  def print(p: java.io.PrintStream): Unit = {\n",
    "    all.foreach { row =>\n",
    "      p.printf(\"{%s}%s\", row, ConstantsGlobal.CrLf) // and here\n",
    "    }\n",
    "  }\n",
    "}"
   ],
   "id": "a7b04438572d8d3e"
  },
  {
   "metadata": {},
   "cell_type": "markdown",
   "source": [
    "Now, RecordsCoupled.write, RowsCoupled.print, and ConstantsGlobal.CrLf are all coupled. If we change CrLf (for example, to a platform-specific or protocol-specific value), the behavior of both classes changes, and it’s unclear whether those changes are acceptable. One user may be printing to the console, while another may be composing an HTTP message where the line ending is mandated and must not change.\n",
    "\n",
    "The constant sits in a global scope without semantic context. We can’t tell how it’s used or which usages are safe to alter. This erodes maintainability: many objects depend on a value whose meaning varies by context.\n",
    "\n",
    "A better design is to inject small objects that carry the context (as shown above with LineSeparator and Records2/Rows2), so each class depends on what it needs, and changes are localized.\n"
   ],
   "id": "3695d7987cb43a44"
  }
 ],
 "metadata": {
  "kernelspec": {
   "display_name": "Scala",
   "language": "scala",
   "name": "scala"
  },
  "language_info": {
   "codemirror_mode": "text/x-scala",
   "file_extension": ".sc",
   "mimetype": "text/x-scala",
   "name": "scala",
   "nbconvert_exporter": "script",
   "version": "2.13.16"
  }
 },
 "nbformat": 4,
 "nbformat_minor": 5
}
