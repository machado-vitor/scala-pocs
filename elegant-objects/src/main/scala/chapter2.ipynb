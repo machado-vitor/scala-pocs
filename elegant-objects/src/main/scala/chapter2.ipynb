{
 "cells": [
  {
   "cell_type": "markdown",
   "id": "a44b8d50-1a26-48d2-8ebb-60183b5bccca",
   "metadata": {},
   "source": [
    "Manipulators are verbs"
   ]
  },
  {
   "cell_type": "code",
   "id": "f050769f4eb1a6a3",
   "metadata": {
    "ExecuteTime": {
     "end_time": "2025-09-03T10:40:32.143007Z",
     "start_time": "2025-09-03T10:40:31.091592Z"
    }
   },
   "source": [
    "class Color(str: String = \"\")\n",
    "\n",
    "class Pixel(x: Int, y: Int) {\n",
    "  def paint(color: Color): Unit = {\n",
    "    // Implementation here\n",
    "  }\n",
    "}\n",
    "\n",
    "val center = new Pixel(50, 50)\n",
    "center.paint(new Color(\"red\"))"
   ],
   "outputs": [
    {
     "data": {
      "text/plain": [
       "defined \u001B[32mclass\u001B[39m \u001B[36mColor\u001B[39m\n",
       "defined \u001B[32mclass\u001B[39m \u001B[36mPixel\u001B[39m\n",
       "\u001B[36mcenter\u001B[39m: \u001B[32mPixel\u001B[39m = ammonite.$sess.cmd1$Helper$Pixel@34998709"
      ]
     },
     "execution_count": 1,
     "metadata": {},
     "output_type": "execute_result"
    }
   ],
   "execution_count": 1
  },
  {
   "cell_type": "markdown",
   "id": "9f92977b-7f9c-4e9d-a8b6-4624a7be0dfc",
   "metadata": {},
   "source": [
    "When an object allows us to manipulate, the name has to be a verb, and there must be no return value."
   ]
  },
  {
   "cell_type": "markdown",
   "id": "7d3a4b9a-0918-4caf-9936-09879084ea5d",
   "metadata": {},
   "source": [
    "Examples of refactoring\n"
   ]
  },
  {
   "cell_type": "code",
   "execution_count": 1,
   "id": "03b5b78d-5c46-42eb-bb73-5f3b74a1ee25",
   "metadata": {
    "ExecuteTime": {
     "end_time": "2025-06-25T10:31:10.472986Z",
     "start_time": "2025-06-25T10:31:09.796093Z"
    }
   },
   "outputs": [
    {
     "data": {
      "text/plain": [
       "defined \u001B[32mclass\u001B[39m \u001B[36mDocument\u001B[39m"
      ]
     },
     "execution_count": 1,
     "metadata": {},
     "output_type": "execute_result"
    }
   ],
   "source": [
    "class Document {\n",
    "  def write(content: java.io.InputStream): Unit = {\n",
    "    // Implementation here\n",
    "  }\n",
    "}"
   ]
  },
  {
   "cell_type": "markdown",
   "id": "c99ed9b67372db6b",
   "metadata": {},
   "source": [
    "The example above shows a Document class with a write method that serves as a manipulator. Following the principle, it has a verb name and returns Unit (void).\n",
    "\n",
    "However, what if we need to know how many bytes were saved? Let's refactor according to the principles:\n"
   ]
  },
  {
   "cell_type": "code",
   "id": "45a18c1cea944fd0",
   "metadata": {
    "ExecuteTime": {
     "end_time": "2025-09-03T10:40:41.567858Z",
     "start_time": "2025-09-03T10:40:40.807819Z"
    }
   },
   "source": [
    "// Problem: This violates our principle - a manipulator returning a value\n",
    "class DocumentProblem {\n",
    "  def write(content: java.io.InputStream): Int = {\n",
    "    // Implementation that writes and returns bytes written\n",
    "    42 // Dummy return for example\n",
    "  }\n",
    "}\n",
    "\n",
    "// Solution: Separate the concerns\n",
    "class Document {\n",
    "  def output(): OutputPipe = {\n",
    "    new OutputPipe()\n",
    "  }\n",
    "}\n",
    "\n",
    "class OutputPipe {\n",
    "  def write(content: java.io.InputStream): Unit = {\n",
    "    // Implementation here\n",
    "  }\n",
    "\n",
    "  def bytes: Int = {\n",
    "    // Return number of bytes written\n",
    "    42 // Dummy return for example\n",
    "  }\n",
    "\n",
    "  def time: Long = {\n",
    "    // Return time taken for writing\n",
    "    123L // Dummy return for example\n",
    "  }\n",
    "}\n",
    "\n",
    "// Usage example\n",
    "val doc = new Document()\n",
    "val pipe = doc.output()\n",
    "pipe.write(new java.io.ByteArrayInputStream(\"Hello\".getBytes))\n",
    "val bytesWritten = pipe.bytes\n",
    "val timeElapsed = pipe.time"
   ],
   "outputs": [
    {
     "data": {
      "text/plain": [
       "defined \u001B[32mclass\u001B[39m \u001B[36mDocumentProblem\u001B[39m\n",
       "defined \u001B[32mclass\u001B[39m \u001B[36mDocument\u001B[39m\n",
       "defined \u001B[32mclass\u001B[39m \u001B[36mOutputPipe\u001B[39m\n",
       "\u001B[36mdoc\u001B[39m: \u001B[32mDocument\u001B[39m = ammonite.$sess.cmd2$Helper$Document@69ee3a5e\n",
       "\u001B[36mpipe\u001B[39m: \u001B[32mOutputPipe\u001B[39m = ammonite.$sess.cmd2$Helper$OutputPipe@6d2ee5ef\n",
       "\u001B[36mbytesWritten\u001B[39m: \u001B[32mInt\u001B[39m = \u001B[32m42\u001B[39m\n",
       "\u001B[36mtimeElapsed\u001B[39m: \u001B[32mLong\u001B[39m = \u001B[32m123L\u001B[39m"
      ]
     },
     "execution_count": 2,
     "metadata": {},
     "output_type": "execute_result"
    }
   ],
   "execution_count": 2
  },
  {
   "cell_type": "markdown",
   "id": "c4b6fb9684661a07",
   "metadata": {},
   "source": [
    "Notice how we've refactored to maintain the principle:\n",
    "1. `output()` is a builder - it returns a new object and has a noun name\n",
    "2. `write()` is a manipulator - it has a verb name and returns Unit\n",
    "3. `bytes` and `time` are builders - they have noun names and return values\n"
   ]
  },
  {
   "cell_type": "markdown",
   "id": "83c10a4029e2a08a",
   "metadata": {},
   "source": [
    "The Builder Pattern and its concerns\n"
   ]
  },
  {
   "metadata": {
    "ExecuteTime": {
     "end_time": "2025-09-03T10:46:55.602750Z",
     "start_time": "2025-09-03T10:46:54.848895Z"
    }
   },
   "cell_type": "code",
   "source": [
    "// Builder Pattern example (though the author recommends against it)\n",
    "class Book (\n",
    "  val author: String = \"\",\n",
    "  val title: String = \"\",\n",
    "  val pages: List[String] = List.empty\n",
    ") {\n",
    "  def withAuthor(author: String): Book = {\n",
    "    new Book(author, title, pages)\n",
    "  }\n",
    "\n",
    "  def withTitle(title: String): Book = {\n",
    "    new Book(author, title, pages)\n",
    "  }\n",
    "\n",
    "  def withPage(page: String): Book = {\n",
    "    new Book(author, title, pages :+ page)\n",
    "  }\n",
    "}\n",
    "\n",
    "// Usage\n",
    "val myBook = new Book()\n",
    "  .withAuthor(\"John Doe\")\n",
    "  .withTitle(\"Clean Code\")\n",
    "  .withPage(\"Chapter 1\")"
   ],
   "id": "3d54dff8f73afc16",
   "outputs": [
    {
     "data": {
      "text/plain": [
       "defined \u001B[32mclass\u001B[39m \u001B[36mBook\u001B[39m\n",
       "\u001B[36mmyBook\u001B[39m: \u001B[32mBook\u001B[39m = ammonite.$sess.cmd4$Helper$Book@18ef9967"
      ]
     },
     "execution_count": 4,
     "metadata": {},
     "output_type": "execute_result"
    }
   ],
   "execution_count": 4
  },
  {
   "cell_type": "markdown",
   "id": "d06fd3dbe0096873",
   "metadata": {},
   "source": [
    "The Builder Pattern methods follow the principle - they have noun-like names (with a prefix) and return values. However, as noted in the text, the author generally advises against this pattern as it often leads to less cohesive, larger objects.\n"
   ]
  },
  {
   "cell_type": "markdown",
   "id": "9c2033c59b2d5e28",
   "metadata": {},
   "source": [
    "A better approach to complex objects with many properties\n"
   ]
  },
  {
   "cell_type": "code",
   "execution_count": null,
   "id": "5e2353888cc96550",
   "metadata": {},
   "outputs": [],
   "source": [
    "// Instead of a large Book class with a builder, break it into smaller objects\n",
    "class Author(val name: String)\n",
    "class Title(val text: String)\n",
    "class Page(val content: String)\n",
    "\n",
    "class Book(val author: Author, val title: Title, val pages: List[Page]) {\n",
    "  def printInfo(): Unit = {\n",
    "    println(s\"${title.text} by ${author.name}, ${pages.size} pages\")\n",
    "  }\n",
    "}\n",
    "\n",
    "// Usage\n",
    "val book = new Book(\n",
    "  new Author(\"Jane Smith\"),\n",
    "  new Title(\"Elegant Objects\"),\n",
    "  List(new Page(\"Introduction\"), new Page(\"Chapter 1\"))\n",
    ")\n",
    "book.printInfo()"
   ]
  },
  {
   "cell_type": "markdown",
   "id": "1113e5d5c66f7ee3",
   "metadata": {},
   "source": [
    "This approach creates smaller, more focused objects rather than using the Builder Pattern for complex initialization.\n"
   ]
  },
  {
   "cell_type": "markdown",
   "id": "ca0fde3f89ca0bca",
   "metadata": {},
   "source": [
    "## Why This Principle Matters\n",
    "\n",
    "This strict separation between builders and manipulators makes code:\n",
    "\n",
    "1. **More readable** - Method names clearly indicate what they do\n",
    "2. **More predictable** - Builders don't change state, manipulators don't return values\n",
    "3. **More maintainable** - Single responsibility principle applied at the method level\n",
    "4. **More testable** - Easier to test methods with clear, focused responsibilities\n"
   ]
  },
  {
   "cell_type": "markdown",
   "id": "87c947d36339dff4",
   "metadata": {},
   "source": [
    "## Handling Complex Cases\n",
    "\n",
    "Sometimes we need both information and manipulation. The solution is to create specific objects for each responsibility:\n"
   ]
  },
  {
   "cell_type": "code",
   "id": "7c89279a78570d0c",
   "metadata": {
    "ExecuteTime": {
     "end_time": "2025-09-03T10:47:29.063913Z",
     "start_time": "2025-09-03T10:47:28.335339Z"
    }
   },
   "source": [
    "// Example: Managing a database connection\n",
    "class Database(url: String) {\n",
    "  // Builder - returns a connection object\n",
    "  def connection: Connection = {\n",
    "    new Connection(url)\n",
    "  }\n",
    "\n",
    "  // Builder - returns statistics object\n",
    "  def stats: Statistics = {\n",
    "    new Statistics(url)\n",
    "  }\n",
    "}\n",
    "\n",
    "class Connection(url: String) {\n",
    "  // Manipulator - executes a query\n",
    "  def execute(sql: String): Unit = {\n",
    "    println(s\"Executing $sql on $url\")\n",
    "  }\n",
    "\n",
    "  // Manipulator - closes the connection\n",
    "  def close(): Unit = {\n",
    "    println(\"Connection closed\")\n",
    "  }\n",
    "}\n",
    "\n",
    "class Statistics(url: String) {\n",
    "  // Builder - returns query count\n",
    "  def queryCount: Int = {\n",
    "    // Implementation to get query count\n",
    "    42\n",
    "  }\n",
    "\n",
    "  // Builder - returns connection time\n",
    "  def connectionTime: Long = {\n",
    "    // Implementation to get connection time\n",
    "    1000L\n",
    "  }\n",
    "}\n",
    "\n",
    "// Usage\n",
    "val db = new Database(\"jdbc:postgresql://localhost:5432/mydb\")\n",
    "val conn = db.connection\n",
    "conn.execute(\"SELECT * FROM users\")\n",
    "conn.close()\n",
    "\n",
    "val stats = db.stats\n",
    "println(s\"Executed ${stats.queryCount} queries\")\n",
    "println(s\"Connection time: ${stats.connectionTime}ms\")\n"
   ],
   "outputs": [
    {
     "name": "stdout",
     "output_type": "stream",
     "text": [
      "Executing SELECT * FROM users on jdbc:postgresql://localhost:5432/mydb\n",
      "Connection closed\n",
      "Executed 42 queries\n",
      "Connection time: 1000ms\n"
     ]
    },
    {
     "data": {
      "text/plain": [
       "defined \u001B[32mclass\u001B[39m \u001B[36mDatabase\u001B[39m\n",
       "defined \u001B[32mclass\u001B[39m \u001B[36mConnection\u001B[39m\n",
       "defined \u001B[32mclass\u001B[39m \u001B[36mStatistics\u001B[39m\n",
       "\u001B[36mdb\u001B[39m: \u001B[32mDatabase\u001B[39m = ammonite.$sess.cmd5$Helper$Database@7e2ce878\n",
       "\u001B[36mconn\u001B[39m: \u001B[32mConnection\u001B[39m = ammonite.$sess.cmd5$Helper$Connection@194543a4\n",
       "\u001B[36mstats\u001B[39m: \u001B[32mStatistics\u001B[39m = ammonite.$sess.cmd5$Helper$Statistics@6d254bb0"
      ]
     },
     "execution_count": 5,
     "metadata": {},
     "output_type": "execute_result"
    }
   ],
   "execution_count": 5
  },
  {
   "cell_type": "markdown",
   "id": "a04f6a4f0e526414",
   "metadata": {},
   "source": [
    "### Boolean Results\n",
    "\n",
    "Boolean methods are an exception to the naming rules. They are builders (they return values), but instead of using nouns, they should use adjectives:\n"
   ]
  },
  {
   "cell_type": "code",
   "id": "852b19bb47926733",
   "metadata": {
    "ExecuteTime": {
     "end_time": "2025-09-03T11:05:30.869559Z",
     "start_time": "2025-09-03T11:05:29.996595Z"
    }
   },
   "source": [
    "class File(path: String) {\n",
    "  // Good: Using adjectives for Boolean methods\n",
    "  def empty: Boolean = {\n",
    "    // Implementation to check if file is empty\n",
    "    true\n",
    "  }\n",
    "\n",
    "  def readable: Boolean = {\n",
    "    // Implementation to check if file is readable\n",
    "    true\n",
    "  }\n",
    "\n",
    "  def present: Boolean = {\n",
    "    // Better than \"exists\" - \"is present\" sounds right\n",
    "    true\n",
    "  }\n",
    "\n",
    "  // Bad examples (would be better as adjectives)\n",
    "  def isEmpty: Boolean = empty // Not recommended - redundant \"is\" prefix\n",
    "  def exists: Boolean = present // Not recommended - use \"present\" instead\n",
    "}\n",
    "\n",
    "case class User(name: String, age: Int) {\n",
    "  // Good: \"equal to\" sounds right\n",
    "  def equalTo(other: User): Boolean = {\n",
    "    this.name == other.name && this.age == other.age\n",
    "  }\n",
    "\n",
    "  // Good: adjective for Boolean result\n",
    "  def adult: Boolean = {\n",
    "    age >= 18\n",
    "  }\n",
    "}\n",
    "\n",
    "// Usage examples showing natural reading in conditionals\n",
    "val file = new File(\"/tmp/data.txt\")\n",
    "val user = new User(\"John\", 25)\n",
    "val otherUser = new User(\"Jane\", 30)\n",
    "\n",
    "if (file.empty) {\n",
    "  println(\"The file is empty\") // Reads naturally: \"if file is empty\"\n",
    "}\n",
    "\n",
    "if (file.readable) {\n",
    "  println(\"The file can be read\") // Reads naturally: \"if file is readable\"\n",
    "}\n",
    "\n",
    "if (user.adult) {\n",
    "  println(\"User is an adult\") // Reads naturally: \"if user is adult\"\n",
    "}\n",
    "\n",
    "if (user.equalTo(otherUser)) {\n",
    "  println(\"Users are the same\") // Reads naturally: \"if user is equal to other user\"\n",
    "}\n"
   ],
   "outputs": [
    {
     "name": "stdout",
     "output_type": "stream",
     "text": [
      "The file is empty\n",
      "The file can be read\n",
      "User is an adult\n"
     ]
    },
    {
     "data": {
      "text/plain": [
       "defined \u001B[32mclass\u001B[39m \u001B[36mFile\u001B[39m\n",
       "defined \u001B[32mclass\u001B[39m \u001B[36mUser\u001B[39m\n",
       "\u001B[36mfile\u001B[39m: \u001B[32mFile\u001B[39m = ammonite.$sess.cmd6$Helper$File@7ef5dca2\n",
       "\u001B[36muser\u001B[39m: \u001B[32mUser\u001B[39m = \u001B[33mUser\u001B[39m(name = \u001B[32m\"John\"\u001B[39m, age = \u001B[32m25\u001B[39m)\n",
       "\u001B[36motherUser\u001B[39m: \u001B[32mUser\u001B[39m = \u001B[33mUser\u001B[39m(name = \u001B[32m\"Jane\"\u001B[39m, age = \u001B[32m30\u001B[39m)"
      ]
     },
     "execution_count": 6,
     "metadata": {},
     "output_type": "execute_result"
    }
   ],
   "execution_count": 6
  },
  {
   "metadata": {},
   "cell_type": "markdown",
   "source": [
    "## Summary of Boolean Method Naming Rules\n",
    "\n",
    "1. **Boolean methods are builders** (they return values)\n",
    "2. **Use adjectives for Boolean methods**, not nouns or verbs\n",
    "3. **Don't use the \"is\" prefix** in the method name\n",
    "4. **Test readability** by mentally placing \"is\" before the name - it should sound correct\n",
    "5. **Examples of good names**:\n",
    "   - `empty()` instead of `isEmpty()`\n",
    "   - `readable()` instead of `canRead()`\n",
    "   - `negative()` instead of `isNegative()`\n",
    "   - `equalTo(obj)` instead of `equals(obj)`\n",
    "   - `present()` instead of `exists()`\n",
    "\n",
    "This naming convention makes conditionals read more naturally, as the Boolean methods essentially answer the question \"is this object [adjective]?\""
   ],
   "id": "3cc49e09fad9c78f"
  },
  {
   "metadata": {},
   "cell_type": "markdown",
   "source": [
    "## 2.5 Don't use public constants\n",
    "\n",
    "Public constants create global coupling and reduce cohesion.\n",
    "Prefer keeping values private to the class that uses them, or pass them in as small objects (dependencies) instead of sharing a global constant."
   ],
   "id": "f25e28edeacbc292"
  },
  {
   "metadata": {
    "ExecuteTime": {
     "end_time": "2025-09-03T11:15:45.703637Z",
     "start_time": "2025-09-03T11:15:45.147494Z"
    }
   },
   "cell_type": "code",
   "source": [
    "// Bad example: global constant-like object (avoid)\n",
    "object ConstantsBad {\n",
    "  val CrLf: String = \"\\r\\n\"\n",
    "}\n",
    "\n",
    "class RowsBad2(private val all: List[String]) {\n",
    "  def print(p: java.io.PrintStream): Unit = {\n",
    "    all.foreach { row => p.print(s\"$row${ConstantsBad.CrLf}\") }\n",
    "  }\n",
    "}"
   ],
   "id": "6b1190d0da3ddecf",
   "outputs": [
    {
     "data": {
      "text/plain": [
       "defined \u001B[32mobject\u001B[39m \u001B[36mConstantsBad\u001B[39m\n",
       "defined \u001B[32mclass\u001B[39m \u001B[36mRowsBad2\u001B[39m"
      ]
     },
     "execution_count": 11,
     "metadata": {},
     "output_type": "execute_result"
    }
   ],
   "execution_count": 11
  },
  {
   "metadata": {},
   "cell_type": "markdown",
   "source": [
    "Better alternatives:\n",
    "\n",
    "- Keep the value private and local to the class.\n",
    "- Or encapsulate the value as an object and inject it."
   ],
   "id": "3445e185568f9dba"
  },
  {
   "metadata": {
    "ExecuteTime": {
     "end_time": "2025-09-03T11:15:49.664218Z",
     "start_time": "2025-09-03T11:15:49.129838Z"
    }
   },
   "cell_type": "code",
   "source": [
    "class Rows2(private val all: List[String]) {\n",
    "  private val CrLf: String = \"\\r\\n\"\n",
    "  def print(p: java.io.PrintStream): Unit =\n",
    "    all.foreach { row => p.print(s\"$row$CrLf\") }\n",
    "}\n",
    "\n",
    "trait LineSeparator { def value: String }\n",
    "class CrLf extends LineSeparator { val value = \"\\r\\n\" }\n",
    "class Lf extends LineSeparator { val value = \"\\n\" }\n",
    "\n",
    "class Records2(private val all: List[String], private val sep: LineSeparator) {\n",
    "  def write(out: java.io.Writer): Unit = {\n",
    "    all.foreach { rec =>\n",
    "      out.write(rec)\n",
    "      out.write(sep.value)\n",
    "    }\n",
    "  }\n",
    "}"
   ],
   "id": "723b0db76db4724e",
   "outputs": [
    {
     "data": {
      "text/plain": [
       "defined \u001B[32mclass\u001B[39m \u001B[36mRows2\u001B[39m\n",
       "defined \u001B[32mtrait\u001B[39m \u001B[36mLineSeparator\u001B[39m\n",
       "defined \u001B[32mclass\u001B[39m \u001B[36mCrLf\u001B[39m\n",
       "defined \u001B[32mclass\u001B[39m \u001B[36mLf\u001B[39m\n",
       "defined \u001B[32mclass\u001B[39m \u001B[36mRecords2\u001B[39m"
      ]
     },
     "execution_count": 12,
     "metadata": {},
     "output_type": "execute_result"
    }
   ],
   "execution_count": 12
  },
  {
   "metadata": {},
   "cell_type": "markdown",
   "source": [
    "## 2.5.1 Introduction of coupling\n",
    "\n",
    "Public constants introduce hidden, hard-coded dependencies. When multiple classes reach out to a shared global value, they become tightly coupled to it and to each other, making behavior changes unpredictable.\n",
    "\n",
    "Consider these two classes that both rely on a shared line separator constant:\n"
   ],
   "id": "c861b7d0fcac6d12"
  },
  {
   "metadata": {
    "ExecuteTime": {
     "end_time": "2025-09-03T11:19:37.286610Z",
     "start_time": "2025-09-03T11:19:36.620294Z"
    }
   },
   "cell_type": "code",
   "source": [
    "// Bad: shared global constant couples unrelated classes to the same value\n",
    "object ConstantsGlobal {\n",
    "  val CrLf: String = \"\\r\\n\"\n",
    "}\n",
    "\n",
    "class RecordsCoupled(private val all: List[String]) {\n",
    "  def write(out: java.io.Writer): Unit = {\n",
    "    all.foreach { rec =>\n",
    "      out.write(rec)\n",
    "      out.write(ConstantsGlobal.CrLf) // hard dependency here\n",
    "    }\n",
    "  }\n",
    "}\n",
    "\n",
    "class RowsCoupled(private val all: List[String]) {\n",
    "  def print(p: java.io.PrintStream): Unit = {\n",
    "    all.foreach { row =>\n",
    "      p.print(s\"$row${ConstantsGlobal.CrLf}\") // hard dependency here\n",
    "    }\n",
    "  }\n",
    "}"
   ],
   "id": "f19033c98a9765dd",
   "outputs": [
    {
     "data": {
      "text/plain": [
       "defined \u001B[32mobject\u001B[39m \u001B[36mConstantsGlobal\u001B[39m\n",
       "defined \u001B[32mclass\u001B[39m \u001B[36mRecordsCoupled\u001B[39m\n",
       "defined \u001B[32mclass\u001B[39m \u001B[36mRowsCoupled\u001B[39m"
      ]
     },
     "execution_count": 13,
     "metadata": {},
     "output_type": "execute_result"
    }
   ],
   "execution_count": 13
  },
  {
   "metadata": {},
   "cell_type": "markdown",
   "source": [
    "Now, RecordsCoupled.write, RowsCoupled.print, and ConstantsGlobal.CrLf are all coupled. If we change CrLf (for example, to a platform-specific or protocol-specific value), the behavior of both classes changes, and it’s unclear whether those changes are acceptable. One user may be printing to the console, while another may be composing an HTTP message where the line ending is mandated and must not change.\n",
    "\n",
    "The constant sits in a global scope without semantic context. We can’t tell how it’s used or which usages are safe to alter. This erodes maintainability: many objects depend on a value whose meaning varies by context.\n",
    "\n",
    "A better design is to inject small objects that carry the context (as shown above with LineSeparator and Records2/Rows2), so each class depends on what it needs, and changes are localized.\n"
   ],
   "id": "19686020036e96b3"
  },
  {
   "metadata": {},
   "cell_type": "markdown",
   "source": [
    "## 2.5.2 Loss of cohesion\n",
    "\n",
    "Public constants push unrelated semantics into consumers. Records and Rows shouldn’t know how to apply a line ending; that’s a separate responsibility. Instead of sharing a naked value, share behavior with a tiny object that owns the meaning of the value.\n",
    "\n",
    "Key ideas:\n",
    "- Don’t share data, share behavior (micro classes).\n",
    "- Couple through contracts, not through globals.\n",
    "- Semantics live with the object that knows them.\n"
   ],
   "id": "8da822bc78ae0516"
  },
  {
   "metadata": {
    "ExecuteTime": {
     "end_time": "2025-09-03T11:32:46.512688Z",
     "start_time": "2025-09-03T11:32:45.755960Z"
    }
   },
   "cell_type": "code",
   "source": [
    "// A tiny object that owns the semantics of “append CRLF to a line”\n",
    "final case class CRLFString(private val origin: String) {\n",
    "  override def toString: String = s\"$origin\\r\\n\"\n",
    "}\n",
    "\n",
    "// Usage in code that writes records (no constant, no formatting logic here)\n",
    "final class Records3(private val all: List[String]) {\n",
    "  def write(out: java.io.Writer): Unit =\n",
    "    all.foreach { rec =>\n",
    "      out.write(CRLFString(rec))\n",
    "    }\n",
    "}\n"
   ],
   "id": "d8b888c37d3df85b",
   "outputs": [
    {
     "data": {
      "text/plain": [
       "defined \u001B[32mclass\u001B[39m \u001B[36mCRLFString\u001B[39m\n",
       "defined \u001B[32mclass\u001B[39m \u001B[36mRecords3\u001B[39m"
      ]
     },
     "execution_count": 23,
     "metadata": {},
     "output_type": "execute_result"
    }
   ],
   "execution_count": 23
  },
  {
   "metadata": {
    "ExecuteTime": {
     "end_time": "2025-09-03T11:35:48.802706Z",
     "start_time": "2025-09-03T11:35:47.943657Z"
    }
   },
   "cell_type": "code",
   "source": [
    "// Usage in code that prints rows (PrintStream can print any object via toString)\n",
    "final class Rows3(private val all: List[String]) {\n",
    "  def print(p: java.io.PrintStream): Unit =\n",
    "    all.foreach { row =>\n",
    "      p.print(CRLFString(row))\n",
    "    }\n",
    "}\n",
    "\n",
    "private val rows = new Rows3(List(\"row1\", \"row2\"))\n",
    "rows.print(System.out) // prints with CRLF\n"
   ],
   "id": "384eec1c651c99b3",
   "outputs": [
    {
     "name": "stdout",
     "output_type": "stream",
     "text": [
      "row1\r\n",
      "row2\r\n"
     ]
    },
    {
     "data": {
      "text/plain": [
       "defined \u001B[32mclass\u001B[39m \u001B[36mRows3\u001B[39m"
      ]
     },
     "execution_count": 25,
     "metadata": {},
     "output_type": "execute_result"
    }
   ],
   "execution_count": 25
  },
  {
   "metadata": {},
   "cell_type": "markdown",
   "source": "Platform-aware behavior stays encapsulated in the same micro class. The contract doesn’t change; only behavior does.\n",
   "id": "7bda00611e16bde7"
  },
  {
   "metadata": {
    "ExecuteTime": {
     "end_time": "2025-09-03T11:48:08.565738Z",
     "start_time": "2025-09-03T11:48:07.990146Z"
    }
   },
   "cell_type": "code",
   "source": [
    "final class SafeCRLFString(private val origin: String) {\n",
    "  override def toString: String = {\n",
    "    val os = java.lang.System.getProperty(\"os.name\", \"\").toLowerCase\n",
    "    if (os.contains(\"win\"))\n",
    "      throw new IllegalStateException(\"We're on Windows, can't use CRLF, sorry\")\n",
    "    s\"$origin\\r\\n\"\n",
    "  }\n",
    "}\n",
    "\n",
    "object SafeCRLFString {\n",
    "  def apply(origin: String): SafeCRLFString = new SafeCRLFString(origin)\n",
    "}\n"
   ],
   "id": "31649c5a99bef0f9",
   "outputs": [
    {
     "data": {
      "text/plain": [
       "defined \u001B[32mclass\u001B[39m \u001B[36mSafeCRLFString\u001B[39m\n",
       "defined \u001B[32mobject\u001B[39m \u001B[36mSafeCRLFString\u001B[39m"
      ]
     },
     "execution_count": 29,
     "metadata": {},
     "output_type": "execute_result"
    }
   ],
   "execution_count": 29
  },
  {
   "metadata": {},
   "cell_type": "markdown",
   "source": "Another example: replace HTTP method constants with tiny classes that configure a request.\n",
   "id": "65adba77fc78cc4b"
  },
  {
   "metadata": {},
   "cell_type": "code",
   "outputs": [],
   "execution_count": null,
   "source": [
    "// A very small HTTP request stub; the method is part of its state\n",
    "trait Request { def fetch(): String }\n",
    "\n",
    "final class HttpRequest extends Request {\n",
    "  private var method: String = \"GET\"\n",
    "  def withMethod(m: String): HttpRequest = { method = m; this }\n",
    "  override def fetch(): String = s\"Fetched with method=$method\"\n",
    "}\n",
    "\n",
    "// Instead of HttpMethods.POST constant, use a tiny configurator object\n",
    "final class PostRequest(private val origin: HttpRequest) extends Request {\n",
    "  override def fetch(): String = origin.withMethod(\"POST\").fetch()\n",
    "}\n",
    "\n",
    "// Usage\n",
    "val bodyViaPost: String = new PostRequest(new HttpRequest).fetch()"
   ],
   "id": "91f1ae5e08fadbd3"
  },
  {
   "metadata": {},
   "cell_type": "markdown",
   "source": [
    "## 2.6 Be immutable\n",
    "\n",
    "Make classes immutable to keep them small, cohesive, decoupled, and easy to reason about. An immutable object doesn’t change its state after creation; operations return new objects instead of mutating existing ones.\n",
    "\n",
    "Key ideas:\n",
    "- Prefer vals over vars; keep fields private and final by default.\n",
    "- Methods that “modify” return new instances (no setters).\n",
    "- Small, focused objects compose behavior instead of sharing mutable state.\n"
   ],
   "id": "cd22d830f0d35dcd"
  },
  {
   "metadata": {},
   "cell_type": "markdown",
   "source": "### Mutable vs. Immutable example (money arithmetic)\n",
   "id": "c25ca2b727f11efe"
  },
  {
   "metadata": {},
   "cell_type": "code",
   "outputs": [],
   "execution_count": null,
   "source": [
    "// Bad: mutable object with in-place modification\n",
    "final class MutableMoney(private var dollars: Int) {\n",
    "  def mul(factor: Int): Unit = { dollars *= factor }\n",
    "  override def toString: String = s\"$$$dollars\"\n",
    "}\n",
    "\n",
    "val fiveMut = new MutableMoney(5)\n",
    "fiveMut.mul(10)\n",
    "println(fiveMut) // \"$50\" — original object changed\n"
   ],
   "id": "3f632521577c2d9b"
  },
  {
   "metadata": {
    "ExecuteTime": {
     "end_time": "2025-09-03T12:26:44.850708Z",
     "start_time": "2025-09-03T12:26:44.163547Z"
    }
   },
   "cell_type": "code",
   "source": [
    "// Good: immutable object that returns a new instance\n",
    "final case class ImmutableMoney(private val dollars: Int) {\n",
    "  def mul(factor: Int): ImmutableMoney = copy(dollars = dollars * factor)\n",
    "  override def toString: String = s\"$$$dollars\"\n",
    "}\n",
    "\n",
    "val five = ImmutableMoney(5)\n",
    "val fifty = five.mul(10)\n",
    "println(five)   // \"$5\"\n",
    "println(fifty)  // \"$50\"\n"
   ],
   "id": "c79ea334db224f39",
   "outputs": [
    {
     "name": "stdout",
     "output_type": "stream",
     "text": [
      "$5\n",
      "$50\n"
     ]
    },
    {
     "data": {
      "text/plain": [
       "defined \u001B[32mclass\u001B[39m \u001B[36mImmutableMoney\u001B[39m\n",
       "\u001B[36mfive\u001B[39m: \u001B[32mImmutableMoney\u001B[39m = \u001B[33mImmutableMoney\u001B[39m(dollars = \u001B[32m5\u001B[39m)\n",
       "\u001B[36mfifty\u001B[39m: \u001B[32mImmutableMoney\u001B[39m = \u001B[33mImmutableMoney\u001B[39m(dollars = \u001B[32m50\u001B[39m)"
      ]
     },
     "execution_count": 32,
     "metadata": {},
     "output_type": "execute_result"
    }
   ],
   "execution_count": 32
  },
  {
   "metadata": {},
   "cell_type": "markdown",
   "source": [
    "Why this is better:\n",
    "- No hidden state changes; values read like they are named.\n",
    "- Easier to test and reason about; no ordering surprises.\n",
    "- Safer to share across threads (no synchronization needed for reads).\n"
   ],
   "id": "ec2573b0016a7c64"
  },
  {
   "metadata": {},
   "cell_type": "markdown",
   "source": [
    "### Practical rules of thumb for immutability in Scala\n",
    "\n",
    "- Use case classes and vals; avoid public vars and setters.\n",
    "- Prefer tiny value objects over exposing raw primitives.\n",
    "- Keep constructors doing all necessary initialization; don’t leave objects half-baked.\n",
    "- If you need a different value, construct a different object.\n"
   ],
   "id": "26011c89ad8c07fa"
  },
  {
   "metadata": {},
   "cell_type": "markdown",
   "source": [
    "### Lazy loading without mutability\n",
    "\n",
    "Lazy loading is often cited as a reason to mutate. In Scala, lazy val gives you safe, one-time initialization without exposing mutability.\n"
   ],
   "id": "4c12fdcaa6a647cf"
  },
  {
   "metadata": {
    "ExecuteTime": {
     "end_time": "2025-09-03T12:32:51.614399Z",
     "start_time": "2025-09-03T12:32:50.920133Z"
    }
   },
   "cell_type": "code",
   "source": [
    "// A source for HTML content\n",
    "trait HtmlSource { def fetch(uri: String): String }\n",
    "\n",
    "// Immutable page with lazy-loaded content\n",
    "final class PageLazy(private val uri: String, private val src: HtmlSource) {\n",
    "  // Thread-safe, computed once on first access, then cached\n",
    "  lazy private val html: String = src.fetch(uri)\n",
    "  def content: String = html\n",
    "}\n",
    "\n",
    "final class StubSource extends HtmlSource {\n",
    "  override def fetch(uri: String): String = s\"<html><body>Loaded $uri</body></html>\"\n",
    "}\n",
    "\n",
    "val page = new PageLazy(\"https://example.org\", new StubSource)\n",
    "println(page.content) // triggers fetch once\n",
    "println(page.content) // returns cached result\n"
   ],
   "id": "198e5f96952ed22b",
   "outputs": [
    {
     "name": "stdout",
     "output_type": "stream",
     "text": [
      "<html><body>Loaded https://example.org</body></html>\n",
      "<html><body>Loaded https://example.org</body></html>\n"
     ]
    },
    {
     "data": {
      "text/plain": [
       "defined \u001B[32mtrait\u001B[39m \u001B[36mHtmlSource\u001B[39m\n",
       "defined \u001B[32mclass\u001B[39m \u001B[36mPageLazy\u001B[39m\n",
       "defined \u001B[32mclass\u001B[39m \u001B[36mStubSource\u001B[39m\n",
       "\u001B[36mpage\u001B[39m: \u001B[32mPageLazy\u001B[39m = ammonite.$sess.cmd35$Helper$PageLazy@30ab8e82"
      ]
     },
     "execution_count": 35,
     "metadata": {},
     "output_type": "execute_result"
    }
   ],
   "execution_count": 35
  },
  {
   "metadata": {},
   "cell_type": "markdown",
   "source": [
    "Notes:\n",
    "- lazy val in Scala is thread-safe and evaluates at most once per instance.\n",
    "- Keep dependencies small (like HtmlSource) and inject them; PageLazy stays cohesive and testable.\n"
   ],
   "id": "7e07ddcd27e92282"
  },
  {
   "metadata": {},
   "cell_type": "markdown",
   "source": [
    "### A tiny, reusable memoization helper\n",
    "\n",
    "For computed values that aren’t fields, wrap the computation in a tiny object and memoize it.\n"
   ],
   "id": "8f8714b9a1c27ce2"
  },
  {
   "metadata": {
    "ExecuteTime": {
     "end_time": "2025-09-03T12:34:30.536078Z",
     "start_time": "2025-09-03T12:34:29.850979Z"
    }
   },
   "cell_type": "code",
   "source": [
    "final class Memoized[A](thunk: => A) {\n",
    "  // Evaluate on first access and cache thereafter\n",
    "  lazy val value: A = thunk\n",
    "}\n",
    "\n",
    "// Usage: any expensive computation\n",
    "def heavy(n: Int): Int = { println(s\"computing for $n\"); n * n }\n",
    "\n",
    "val squared = new Memoized(heavy(21))\n",
    "println(squared.value) // computes\n",
    "println(squared.value) // cached\n"
   ],
   "id": "857fc7176bb7ad82",
   "outputs": [
    {
     "name": "stdout",
     "output_type": "stream",
     "text": [
      "computing for 21\n",
      "441\n",
      "441\n"
     ]
    },
    {
     "data": {
      "text/plain": [
       "defined \u001B[32mclass\u001B[39m \u001B[36mMemoized\u001B[39m\n",
       "defined \u001B[32mfunction\u001B[39m \u001B[36mheavy\u001B[39m\n",
       "\u001B[36msquared\u001B[39m: \u001B[32mMemoized\u001B[39m[\u001B[32mInt\u001B[39m] = ammonite.$sess.cmd36$Helper$Memoized@23e43f74"
      ]
     },
     "execution_count": 36,
     "metadata": {},
     "output_type": "execute_result"
    }
   ],
   "execution_count": 36
  },
  {
   "metadata": {},
   "cell_type": "markdown",
   "source": [
    "### Takeaways\n",
    "\n",
    "- Don’t mutate objects; return new ones.\n",
    "- Use lazy val for one-time, cached initialization without sacrificing immutability.\n",
    "- Prefer micro-objects and explicit dependencies over shared mutable state."
   ],
   "id": "dba05e1c527f77ee"
  },
  {
   "metadata": {},
   "cell_type": "markdown",
   "source": [
    "### 2.6.1 Identity mutability\n",
    "\n",
    "Immutable objects don’t suffer from “identity mutability.” The bug appears when an object’s equality and hash code depend on mutable state: after the object is used as a key in a map (or element of a set), mutating it breaks the collection’s invariants. Lookups become unpredictable and duplicates (by equality) may appear.\n"
   ],
   "id": "afb127468c783cf"
  },
  {
   "metadata": {
    "ExecuteTime": {
     "end_time": "2025-09-04T21:48:46.188556Z",
     "start_time": "2025-09-04T21:48:45.075879Z"
    }
   },
   "cell_type": "code",
   "source": [
    "import scala.collection.mutable\n",
    "\n",
    "// Bad: key equality depends on mutable state\n",
    "final class MutableKeyMoney(private var _dollars: Int) {\n",
    "  def dollars: Int = _dollars\n",
    "  def mul(factor: Int): Unit = { _dollars *= factor }\n",
    "\n",
    "  // Equality and hashCode depend on (mutable) dollars\n",
    "  override def equals(obj: Any): Boolean = obj match {\n",
    "    case that: MutableKeyMoney => this._dollars == that._dollars\n",
    "    case _ => false\n",
    "  }\n",
    "  override def hashCode(): Int = java.lang.Integer.hashCode(_dollars)\n",
    "  override def toString: String = s\"$$$dollars\"\n",
    "}\n",
    "\n",
    "val map = mutable.HashMap[MutableKeyMoney, String]()\n",
    "val fiveK = new MutableKeyMoney(5)\n",
    "val tenK  = new MutableKeyMoney(10)\n",
    "map.put(fiveK, \"five\")\n",
    "map.put(tenK,  \"ten\")\n",
    "\n",
    "// Mutate one key after it has been placed in the map\n",
    "fiveK.mul(2) // now equals(tenK) and hashCode matches tenK\n",
    "\n",
    "println(map)                  // keys may look equal ($10, $10), but both entries still exist internally\n",
    "println(map.get(fiveK))       // lookup may fail or be inconsistent (hash bucket mismatch)\n",
    "println(map.get(tenK))        // may succeed, highlighting the broken invariant\n",
    "println(map.keys.count(k => k == fiveK)) // > 1 by equality, revealing duplicates by equals()\n"
   ],
   "id": "fcccf7226643e5d5",
   "outputs": [
    {
     "name": "stdout",
     "output_type": "stream",
     "text": [
      "HashMap($10 -> five, $10 -> ten)\n",
      "Some(ten)\n",
      "Some(ten)\n",
      "2\n"
     ]
    },
    {
     "data": {
      "text/plain": [
       "\u001B[32mimport \u001B[39m\u001B[36mscala.collection.mutable\n",
       "\n",
       "// Bad: key equality depends on mutable state\n",
       "\u001B[39m\n",
       "defined \u001B[32mclass\u001B[39m \u001B[36mMutableKeyMoney\u001B[39m\n",
       "\u001B[36mmap\u001B[39m: \u001B[32mHashMap\u001B[39m[\u001B[32mMutableKeyMoney\u001B[39m, \u001B[32mString\u001B[39m] = \u001B[33mHashMap\u001B[39m($10 -> \u001B[32m\"five\"\u001B[39m, $10 -> \u001B[32m\"ten\"\u001B[39m)\n",
       "\u001B[36mfiveK\u001B[39m: \u001B[32mMutableKeyMoney\u001B[39m = $10\n",
       "\u001B[36mtenK\u001B[39m: \u001B[32mMutableKeyMoney\u001B[39m = $10\n",
       "\u001B[36mres37_5\u001B[39m: \u001B[32mOption\u001B[39m[\u001B[32mString\u001B[39m] = \u001B[32mNone\u001B[39m\n",
       "\u001B[36mres37_6\u001B[39m: \u001B[32mOption\u001B[39m[\u001B[32mString\u001B[39m] = \u001B[32mNone\u001B[39m"
      ]
     },
     "execution_count": 37,
     "metadata": {},
     "output_type": "execute_result"
    }
   ],
   "execution_count": 37
  },
  {
   "metadata": {},
   "cell_type": "markdown",
   "source": [
    "Why this happens:\n",
    "- Hash-based collections place keys into buckets using hashCode computed at insertion time.\n",
    "- If hashCode/equals depend on mutable fields and those fields change after insertion, the stored bucket no longer matches the key’s identity.\n",
    "- Future lookups use the new hash/equality and search the wrong bucket; duplicates-by-equality can also appear.\n"
   ],
   "id": "2faaa4a59f87bc39"
  },
  {
   "metadata": {},
   "cell_type": "markdown",
   "source": "Safe alternative: immutable keys (stable equality)\n",
   "id": "110f37ac155dd13"
  },
  {
   "metadata": {
    "ExecuteTime": {
     "end_time": "2025-09-04T21:51:50.197732Z",
     "start_time": "2025-09-04T21:51:49.288298Z"
    }
   },
   "cell_type": "code",
   "source": [
    "import scala.collection.mutable\n",
    "\n",
    "// Good: immutable key with stable equals/hashCode\n",
    "final case class MoneyKey(dollars: Int) {\n",
    "  override def toString: String = s\"$$$dollars\"\n",
    "}\n",
    "\n",
    "val safe = mutable.HashMap[MoneyKey, String]()\n",
    "safe.put(MoneyKey(5),  \"five\")\n",
    "safe.put(MoneyKey(10), \"ten\")\n",
    "\n",
    "// We “change” by creating a new key; the old entry remains valid\n",
    "val fiveKey = MoneyKey(5)\n",
    "safe.put(fiveKey.copy(dollars = fiveKey.dollars * 2), \"ten-again\")\n",
    "\n",
    "println(safe)                 // Map($5 -> five, $10 -> ten, $10 -> ten-again)\n",
    "println(safe.get(MoneyKey(10))) // deterministic and consistent\n"
   ],
   "id": "c17cfa8844d6fa06",
   "outputs": [
    {
     "name": "stdout",
     "output_type": "stream",
     "text": [
      "HashMap($5 -> five, $10 -> ten-again)\n",
      "Some(ten-again)\n"
     ]
    },
    {
     "data": {
      "text/plain": [
       "\u001B[32mimport \u001B[39m\u001B[36mscala.collection.mutable\n",
       "\n",
       "// Good: immutable key with stable equals/hashCode\n",
       "\u001B[39m\n",
       "defined \u001B[32mclass\u001B[39m \u001B[36mMoneyKey\u001B[39m\n",
       "\u001B[36msafe\u001B[39m: \u001B[32mHashMap\u001B[39m[\u001B[32mMoneyKey\u001B[39m, \u001B[32mString\u001B[39m] = \u001B[33mHashMap\u001B[39m(\n",
       "  \u001B[33mMoneyKey\u001B[39m(dollars = \u001B[32m5\u001B[39m) -> \u001B[32m\"five\"\u001B[39m,\n",
       "  \u001B[33mMoneyKey\u001B[39m(dollars = \u001B[32m10\u001B[39m) -> \u001B[32m\"ten-again\"\u001B[39m\n",
       ")\n",
       "\u001B[36mres38_3\u001B[39m: \u001B[32mOption\u001B[39m[\u001B[32mString\u001B[39m] = \u001B[32mNone\u001B[39m\n",
       "\u001B[36mres38_4\u001B[39m: \u001B[32mOption\u001B[39m[\u001B[32mString\u001B[39m] = \u001B[32mNone\u001B[39m\n",
       "\u001B[36mfiveKey\u001B[39m: \u001B[32mMoneyKey\u001B[39m = \u001B[33mMoneyKey\u001B[39m(dollars = \u001B[32m5\u001B[39m)\n",
       "\u001B[36mres38_6\u001B[39m: \u001B[32mOption\u001B[39m[\u001B[32mString\u001B[39m] = \u001B[33mSome\u001B[39m(value = \u001B[32m\"ten\"\u001B[39m)"
      ]
     },
     "execution_count": 38,
     "metadata": {},
     "output_type": "execute_result"
    }
   ],
   "execution_count": 38
  },
  {
   "metadata": {},
   "cell_type": "markdown",
   "source": [
    "Guidelines to avoid identity mutability bugs:\n",
    "- Never use mutable objects as keys in HashMap/HashSet (or any hashed structure).\n",
    "- Ensure equals/hashCode rely only on immutable state. Prefer case classes for value objects.\n",
    "- Keep classes final with private vals; expose behavior, not setters.\n",
    "- “Modifications” should produce new objects, leaving existing map keys valid forever.\n"
   ],
   "id": "92bc6994d83a08cc"
  }
 ],
 "metadata": {
  "kernelspec": {
   "display_name": "Scala",
   "language": "scala",
   "name": "scala"
  },
  "language_info": {
   "codemirror_mode": "text/x-scala",
   "file_extension": ".sc",
   "mimetype": "text/x-scala",
   "name": "scala",
   "nbconvert_exporter": "script",
   "version": "2.13.16"
  }
 },
 "nbformat": 4,
 "nbformat_minor": 5
}
