{
 "cells": [
  {
   "cell_type": "markdown",
   "id": "a44b8d50-1a26-48d2-8ebb-60183b5bccca",
   "metadata": {},
   "source": [
    "Manipulators are verbs"
   ]
  },
  {
   "cell_type": "code",
   "id": "f050769f4eb1a6a3",
   "metadata": {
    "ExecuteTime": {
     "end_time": "2025-09-03T10:40:32.143007Z",
     "start_time": "2025-09-03T10:40:31.091592Z"
    }
   },
   "source": [
    "class Color(str: String = \"\")\n",
    "\n",
    "class Pixel(x: Int, y: Int) {\n",
    "  def paint(color: Color): Unit = {\n",
    "    // Implementation here\n",
    "  }\n",
    "}\n",
    "\n",
    "val center = new Pixel(50, 50)\n",
    "center.paint(new Color(\"red\"))"
   ],
   "outputs": [
    {
     "data": {
      "text/plain": [
       "defined \u001B[32mclass\u001B[39m \u001B[36mColor\u001B[39m\n",
       "defined \u001B[32mclass\u001B[39m \u001B[36mPixel\u001B[39m\n",
       "\u001B[36mcenter\u001B[39m: \u001B[32mPixel\u001B[39m = ammonite.$sess.cmd1$Helper$Pixel@34998709"
      ]
     },
     "execution_count": 1,
     "metadata": {},
     "output_type": "execute_result"
    }
   ],
   "execution_count": 1
  },
  {
   "cell_type": "markdown",
   "id": "9f92977b-7f9c-4e9d-a8b6-4624a7be0dfc",
   "metadata": {},
   "source": [
    "When an object allows us to manipulate, the name has to be a verb, and there must be no return value."
   ]
  },
  {
   "cell_type": "markdown",
   "id": "7d3a4b9a-0918-4caf-9936-09879084ea5d",
   "metadata": {},
   "source": [
    "Examples of refactoring\n"
   ]
  },
  {
   "cell_type": "code",
   "execution_count": 1,
   "id": "03b5b78d-5c46-42eb-bb73-5f3b74a1ee25",
   "metadata": {
    "ExecuteTime": {
     "end_time": "2025-06-25T10:31:10.472986Z",
     "start_time": "2025-06-25T10:31:09.796093Z"
    }
   },
   "outputs": [
    {
     "data": {
      "text/plain": [
       "defined \u001B[32mclass\u001B[39m \u001B[36mDocument\u001B[39m"
      ]
     },
     "execution_count": 1,
     "metadata": {},
     "output_type": "execute_result"
    }
   ],
   "source": [
    "class Document {\n",
    "  def write(content: java.io.InputStream): Unit = {\n",
    "    // Implementation here\n",
    "  }\n",
    "}"
   ]
  },
  {
   "cell_type": "markdown",
   "id": "c99ed9b67372db6b",
   "metadata": {},
   "source": [
    "The example above shows a Document class with a write method that serves as a manipulator. Following the principle, it has a verb name and returns Unit (void).\n",
    "\n",
    "However, what if we need to know how many bytes were saved? Let's refactor according to the principles:\n"
   ]
  },
  {
   "cell_type": "code",
   "id": "45a18c1cea944fd0",
   "metadata": {
    "ExecuteTime": {
     "end_time": "2025-09-03T10:40:41.567858Z",
     "start_time": "2025-09-03T10:40:40.807819Z"
    }
   },
   "source": [
    "// Problem: This violates our principle - a manipulator returning a value\n",
    "class DocumentProblem {\n",
    "  def write(content: java.io.InputStream): Int = {\n",
    "    // Implementation that writes and returns bytes written\n",
    "    42 // Dummy return for example\n",
    "  }\n",
    "}\n",
    "\n",
    "// Solution: Separate the concerns\n",
    "class Document {\n",
    "  def output(): OutputPipe = {\n",
    "    new OutputPipe()\n",
    "  }\n",
    "}\n",
    "\n",
    "class OutputPipe {\n",
    "  def write(content: java.io.InputStream): Unit = {\n",
    "    // Implementation here\n",
    "  }\n",
    "\n",
    "  def bytes: Int = {\n",
    "    // Return number of bytes written\n",
    "    42 // Dummy return for example\n",
    "  }\n",
    "\n",
    "  def time: Long = {\n",
    "    // Return time taken for writing\n",
    "    123L // Dummy return for example\n",
    "  }\n",
    "}\n",
    "\n",
    "// Usage example\n",
    "val doc = new Document()\n",
    "val pipe = doc.output()\n",
    "pipe.write(new java.io.ByteArrayInputStream(\"Hello\".getBytes))\n",
    "val bytesWritten = pipe.bytes\n",
    "val timeElapsed = pipe.time"
   ],
   "outputs": [
    {
     "data": {
      "text/plain": [
       "defined \u001B[32mclass\u001B[39m \u001B[36mDocumentProblem\u001B[39m\n",
       "defined \u001B[32mclass\u001B[39m \u001B[36mDocument\u001B[39m\n",
       "defined \u001B[32mclass\u001B[39m \u001B[36mOutputPipe\u001B[39m\n",
       "\u001B[36mdoc\u001B[39m: \u001B[32mDocument\u001B[39m = ammonite.$sess.cmd2$Helper$Document@69ee3a5e\n",
       "\u001B[36mpipe\u001B[39m: \u001B[32mOutputPipe\u001B[39m = ammonite.$sess.cmd2$Helper$OutputPipe@6d2ee5ef\n",
       "\u001B[36mbytesWritten\u001B[39m: \u001B[32mInt\u001B[39m = \u001B[32m42\u001B[39m\n",
       "\u001B[36mtimeElapsed\u001B[39m: \u001B[32mLong\u001B[39m = \u001B[32m123L\u001B[39m"
      ]
     },
     "execution_count": 2,
     "metadata": {},
     "output_type": "execute_result"
    }
   ],
   "execution_count": 2
  },
  {
   "cell_type": "markdown",
   "id": "c4b6fb9684661a07",
   "metadata": {},
   "source": [
    "Notice how we've refactored to maintain the principle:\n",
    "1. `output()` is a builder - it returns a new object and has a noun name\n",
    "2. `write()` is a manipulator - it has a verb name and returns Unit\n",
    "3. `bytes` and `time` are builders - they have noun names and return values\n"
   ]
  },
  {
   "cell_type": "markdown",
   "id": "83c10a4029e2a08a",
   "metadata": {},
   "source": [
    "The Builder Pattern and its concerns\n"
   ]
  },
  {
   "metadata": {
    "ExecuteTime": {
     "end_time": "2025-09-03T10:46:55.602750Z",
     "start_time": "2025-09-03T10:46:54.848895Z"
    }
   },
   "cell_type": "code",
   "source": [
    "// Builder Pattern example (though the author recommends against it)\n",
    "class Book (\n",
    "  val author: String = \"\",\n",
    "  val title: String = \"\",\n",
    "  val pages: List[String] = List.empty\n",
    ") {\n",
    "  def withAuthor(author: String): Book = {\n",
    "    new Book(author, title, pages)\n",
    "  }\n",
    "\n",
    "  def withTitle(title: String): Book = {\n",
    "    new Book(author, title, pages)\n",
    "  }\n",
    "\n",
    "  def withPage(page: String): Book = {\n",
    "    new Book(author, title, pages :+ page)\n",
    "  }\n",
    "}\n",
    "\n",
    "// Usage\n",
    "val myBook = new Book()\n",
    "  .withAuthor(\"John Doe\")\n",
    "  .withTitle(\"Clean Code\")\n",
    "  .withPage(\"Chapter 1\")"
   ],
   "id": "3d54dff8f73afc16",
   "outputs": [
    {
     "data": {
      "text/plain": [
       "defined \u001B[32mclass\u001B[39m \u001B[36mBook\u001B[39m\n",
       "\u001B[36mmyBook\u001B[39m: \u001B[32mBook\u001B[39m = ammonite.$sess.cmd4$Helper$Book@18ef9967"
      ]
     },
     "execution_count": 4,
     "metadata": {},
     "output_type": "execute_result"
    }
   ],
   "execution_count": 4
  },
  {
   "cell_type": "markdown",
   "id": "d06fd3dbe0096873",
   "metadata": {},
   "source": [
    "The Builder Pattern methods follow the principle - they have noun-like names (with a prefix) and return values. However, as noted in the text, the author generally advises against this pattern as it often leads to less cohesive, larger objects.\n"
   ]
  },
  {
   "cell_type": "markdown",
   "id": "9c2033c59b2d5e28",
   "metadata": {},
   "source": [
    "A better approach to complex objects with many properties\n"
   ]
  },
  {
   "cell_type": "code",
   "execution_count": null,
   "id": "5e2353888cc96550",
   "metadata": {},
   "outputs": [],
   "source": [
    "// Instead of a large Book class with a builder, break it into smaller objects\n",
    "class Author(val name: String)\n",
    "class Title(val text: String)\n",
    "class Page(val content: String)\n",
    "\n",
    "class Book(val author: Author, val title: Title, val pages: List[Page]) {\n",
    "  def printInfo(): Unit = {\n",
    "    println(s\"${title.text} by ${author.name}, ${pages.size} pages\")\n",
    "  }\n",
    "}\n",
    "\n",
    "// Usage\n",
    "val book = new Book(\n",
    "  new Author(\"Jane Smith\"),\n",
    "  new Title(\"Elegant Objects\"),\n",
    "  List(new Page(\"Introduction\"), new Page(\"Chapter 1\"))\n",
    ")\n",
    "book.printInfo()"
   ]
  },
  {
   "cell_type": "markdown",
   "id": "1113e5d5c66f7ee3",
   "metadata": {},
   "source": [
    "This approach creates smaller, more focused objects rather than using the Builder Pattern for complex initialization.\n"
   ]
  },
  {
   "cell_type": "markdown",
   "id": "ca0fde3f89ca0bca",
   "metadata": {},
   "source": [
    "## Why This Principle Matters\n",
    "\n",
    "This strict separation between builders and manipulators makes code:\n",
    "\n",
    "1. **More readable** - Method names clearly indicate what they do\n",
    "2. **More predictable** - Builders don't change state, manipulators don't return values\n",
    "3. **More maintainable** - Single responsibility principle applied at the method level\n",
    "4. **More testable** - Easier to test methods with clear, focused responsibilities\n"
   ]
  },
  {
   "cell_type": "markdown",
   "id": "87c947d36339dff4",
   "metadata": {},
   "source": [
    "## Handling Complex Cases\n",
    "\n",
    "Sometimes we need both information and manipulation. The solution is to create specific objects for each responsibility:\n"
   ]
  },
  {
   "cell_type": "code",
   "id": "7c89279a78570d0c",
   "metadata": {
    "ExecuteTime": {
     "end_time": "2025-09-03T10:47:29.063913Z",
     "start_time": "2025-09-03T10:47:28.335339Z"
    }
   },
   "source": [
    "// Example: Managing a database connection\n",
    "class Database(url: String) {\n",
    "  // Builder - returns a connection object\n",
    "  def connection: Connection = {\n",
    "    new Connection(url)\n",
    "  }\n",
    "\n",
    "  // Builder - returns statistics object\n",
    "  def stats: Statistics = {\n",
    "    new Statistics(url)\n",
    "  }\n",
    "}\n",
    "\n",
    "class Connection(url: String) {\n",
    "  // Manipulator - executes a query\n",
    "  def execute(sql: String): Unit = {\n",
    "    println(s\"Executing $sql on $url\")\n",
    "  }\n",
    "\n",
    "  // Manipulator - closes the connection\n",
    "  def close(): Unit = {\n",
    "    println(\"Connection closed\")\n",
    "  }\n",
    "}\n",
    "\n",
    "class Statistics(url: String) {\n",
    "  // Builder - returns query count\n",
    "  def queryCount: Int = {\n",
    "    // Implementation to get query count\n",
    "    42\n",
    "  }\n",
    "\n",
    "  // Builder - returns connection time\n",
    "  def connectionTime: Long = {\n",
    "    // Implementation to get connection time\n",
    "    1000L\n",
    "  }\n",
    "}\n",
    "\n",
    "// Usage\n",
    "val db = new Database(\"jdbc:postgresql://localhost:5432/mydb\")\n",
    "val conn = db.connection\n",
    "conn.execute(\"SELECT * FROM users\")\n",
    "conn.close()\n",
    "\n",
    "val stats = db.stats\n",
    "println(s\"Executed ${stats.queryCount} queries\")\n",
    "println(s\"Connection time: ${stats.connectionTime}ms\")\n"
   ],
   "outputs": [
    {
     "name": "stdout",
     "output_type": "stream",
     "text": [
      "Executing SELECT * FROM users on jdbc:postgresql://localhost:5432/mydb\n",
      "Connection closed\n",
      "Executed 42 queries\n",
      "Connection time: 1000ms\n"
     ]
    },
    {
     "data": {
      "text/plain": [
       "defined \u001B[32mclass\u001B[39m \u001B[36mDatabase\u001B[39m\n",
       "defined \u001B[32mclass\u001B[39m \u001B[36mConnection\u001B[39m\n",
       "defined \u001B[32mclass\u001B[39m \u001B[36mStatistics\u001B[39m\n",
       "\u001B[36mdb\u001B[39m: \u001B[32mDatabase\u001B[39m = ammonite.$sess.cmd5$Helper$Database@7e2ce878\n",
       "\u001B[36mconn\u001B[39m: \u001B[32mConnection\u001B[39m = ammonite.$sess.cmd5$Helper$Connection@194543a4\n",
       "\u001B[36mstats\u001B[39m: \u001B[32mStatistics\u001B[39m = ammonite.$sess.cmd5$Helper$Statistics@6d254bb0"
      ]
     },
     "execution_count": 5,
     "metadata": {},
     "output_type": "execute_result"
    }
   ],
   "execution_count": 5
  },
  {
   "cell_type": "markdown",
   "id": "a04f6a4f0e526414",
   "metadata": {},
   "source": [
    "### Boolean Results\n",
    "\n",
    "Boolean methods are an exception to the naming rules. They are builders (they return values), but instead of using nouns, they should use adjectives:\n"
   ]
  },
  {
   "cell_type": "code",
   "id": "852b19bb47926733",
   "metadata": {
    "ExecuteTime": {
     "end_time": "2025-09-03T11:05:30.869559Z",
     "start_time": "2025-09-03T11:05:29.996595Z"
    }
   },
   "source": [
    "class File(path: String) {\n",
    "  // Good: Using adjectives for Boolean methods\n",
    "  def empty: Boolean = {\n",
    "    // Implementation to check if file is empty\n",
    "    true\n",
    "  }\n",
    "\n",
    "  def readable: Boolean = {\n",
    "    // Implementation to check if file is readable\n",
    "    true\n",
    "  }\n",
    "\n",
    "  def present: Boolean = {\n",
    "    // Better than \"exists\" - \"is present\" sounds right\n",
    "    true\n",
    "  }\n",
    "\n",
    "  // Bad examples (would be better as adjectives)\n",
    "  def isEmpty: Boolean = empty // Not recommended - redundant \"is\" prefix\n",
    "  def exists: Boolean = present // Not recommended - use \"present\" instead\n",
    "}\n",
    "\n",
    "case class User(name: String, age: Int) {\n",
    "  // Good: \"equal to\" sounds right\n",
    "  def equalTo(other: User): Boolean = {\n",
    "    this.name == other.name && this.age == other.age\n",
    "  }\n",
    "\n",
    "  // Good: adjective for Boolean result\n",
    "  def adult: Boolean = {\n",
    "    age >= 18\n",
    "  }\n",
    "}\n",
    "\n",
    "// Usage examples showing natural reading in conditionals\n",
    "val file = new File(\"/tmp/data.txt\")\n",
    "val user = new User(\"John\", 25)\n",
    "val otherUser = new User(\"Jane\", 30)\n",
    "\n",
    "if (file.empty) {\n",
    "  println(\"The file is empty\") // Reads naturally: \"if file is empty\"\n",
    "}\n",
    "\n",
    "if (file.readable) {\n",
    "  println(\"The file can be read\") // Reads naturally: \"if file is readable\"\n",
    "}\n",
    "\n",
    "if (user.adult) {\n",
    "  println(\"User is an adult\") // Reads naturally: \"if user is adult\"\n",
    "}\n",
    "\n",
    "if (user.equalTo(otherUser)) {\n",
    "  println(\"Users are the same\") // Reads naturally: \"if user is equal to other user\"\n",
    "}\n"
   ],
   "outputs": [
    {
     "name": "stdout",
     "output_type": "stream",
     "text": [
      "The file is empty\n",
      "The file can be read\n",
      "User is an adult\n"
     ]
    },
    {
     "data": {
      "text/plain": [
       "defined \u001B[32mclass\u001B[39m \u001B[36mFile\u001B[39m\n",
       "defined \u001B[32mclass\u001B[39m \u001B[36mUser\u001B[39m\n",
       "\u001B[36mfile\u001B[39m: \u001B[32mFile\u001B[39m = ammonite.$sess.cmd6$Helper$File@7ef5dca2\n",
       "\u001B[36muser\u001B[39m: \u001B[32mUser\u001B[39m = \u001B[33mUser\u001B[39m(name = \u001B[32m\"John\"\u001B[39m, age = \u001B[32m25\u001B[39m)\n",
       "\u001B[36motherUser\u001B[39m: \u001B[32mUser\u001B[39m = \u001B[33mUser\u001B[39m(name = \u001B[32m\"Jane\"\u001B[39m, age = \u001B[32m30\u001B[39m)"
      ]
     },
     "execution_count": 6,
     "metadata": {},
     "output_type": "execute_result"
    }
   ],
   "execution_count": 6
  },
  {
   "metadata": {},
   "cell_type": "markdown",
   "source": [
    "## Summary of Boolean Method Naming Rules\n",
    "\n",
    "1. **Boolean methods are builders** (they return values)\n",
    "2. **Use adjectives for Boolean methods**, not nouns or verbs\n",
    "3. **Don't use the \"is\" prefix** in the method name\n",
    "4. **Test readability** by mentally placing \"is\" before the name - it should sound correct\n",
    "5. **Examples of good names**:\n",
    "   - `empty()` instead of `isEmpty()`\n",
    "   - `readable()` instead of `canRead()`\n",
    "   - `negative()` instead of `isNegative()`\n",
    "   - `equalTo(obj)` instead of `equals(obj)`\n",
    "   - `present()` instead of `exists()`\n",
    "\n",
    "This naming convention makes conditionals read more naturally, as the Boolean methods essentially answer the question \"is this object [adjective]?\""
   ],
   "id": "3cc49e09fad9c78f"
  },
  {
   "metadata": {},
   "cell_type": "markdown",
   "source": [
    "## 2.5 Don't use public constants\n",
    "\n",
    "Public constants create global coupling and reduce cohesion.\n",
    "Prefer keeping values private to the class that uses them, or pass them in as small objects (dependencies) instead of sharing a global constant."
   ],
   "id": "f25e28edeacbc292"
  },
  {
   "metadata": {
    "ExecuteTime": {
     "end_time": "2025-09-03T11:15:45.703637Z",
     "start_time": "2025-09-03T11:15:45.147494Z"
    }
   },
   "cell_type": "code",
   "source": [
    "// Bad example: global constant-like object (avoid)\n",
    "object ConstantsBad {\n",
    "  val CrLf: String = \"\\r\\n\"\n",
    "}\n",
    "\n",
    "class RowsBad2(private val all: List[String]) {\n",
    "  def print(p: java.io.PrintStream): Unit = {\n",
    "    all.foreach { row => p.print(s\"$row${ConstantsBad.CrLf}\") }\n",
    "  }\n",
    "}"
   ],
   "id": "6b1190d0da3ddecf",
   "outputs": [
    {
     "data": {
      "text/plain": [
       "defined \u001B[32mobject\u001B[39m \u001B[36mConstantsBad\u001B[39m\n",
       "defined \u001B[32mclass\u001B[39m \u001B[36mRowsBad2\u001B[39m"
      ]
     },
     "execution_count": 11,
     "metadata": {},
     "output_type": "execute_result"
    }
   ],
   "execution_count": 11
  },
  {
   "metadata": {},
   "cell_type": "markdown",
   "source": [
    "Better alternatives:\n",
    "\n",
    "- Keep the value private and local to the class.\n",
    "- Or encapsulate the value as an object and inject it."
   ],
   "id": "3445e185568f9dba"
  },
  {
   "metadata": {
    "ExecuteTime": {
     "end_time": "2025-09-03T11:15:49.664218Z",
     "start_time": "2025-09-03T11:15:49.129838Z"
    }
   },
   "cell_type": "code",
   "source": [
    "class Rows2(private val all: List[String]) {\n",
    "  private val CrLf: String = \"\\r\\n\"\n",
    "  def print(p: java.io.PrintStream): Unit =\n",
    "    all.foreach { row => p.print(s\"$row$CrLf\") }\n",
    "}\n",
    "\n",
    "trait LineSeparator { def value: String }\n",
    "class CrLf extends LineSeparator { val value = \"\\r\\n\" }\n",
    "class Lf extends LineSeparator { val value = \"\\n\" }\n",
    "\n",
    "class Records2(private val all: List[String], private val sep: LineSeparator) {\n",
    "  def write(out: java.io.Writer): Unit = {\n",
    "    all.foreach { rec =>\n",
    "      out.write(rec)\n",
    "      out.write(sep.value)\n",
    "    }\n",
    "  }\n",
    "}"
   ],
   "id": "723b0db76db4724e",
   "outputs": [
    {
     "data": {
      "text/plain": [
       "defined \u001B[32mclass\u001B[39m \u001B[36mRows2\u001B[39m\n",
       "defined \u001B[32mtrait\u001B[39m \u001B[36mLineSeparator\u001B[39m\n",
       "defined \u001B[32mclass\u001B[39m \u001B[36mCrLf\u001B[39m\n",
       "defined \u001B[32mclass\u001B[39m \u001B[36mLf\u001B[39m\n",
       "defined \u001B[32mclass\u001B[39m \u001B[36mRecords2\u001B[39m"
      ]
     },
     "execution_count": 12,
     "metadata": {},
     "output_type": "execute_result"
    }
   ],
   "execution_count": 12
  },
  {
   "metadata": {},
   "cell_type": "markdown",
   "source": [
    "## 2.5.1 Introduction of coupling\n",
    "\n",
    "Public constants introduce hidden, hard-coded dependencies. When multiple classes reach out to a shared global value, they become tightly coupled to it and to each other, making behavior changes unpredictable.\n",
    "\n",
    "Consider these two classes that both rely on a shared line separator constant:\n"
   ],
   "id": "c861b7d0fcac6d12"
  },
  {
   "metadata": {
    "ExecuteTime": {
     "end_time": "2025-09-03T11:19:37.286610Z",
     "start_time": "2025-09-03T11:19:36.620294Z"
    }
   },
   "cell_type": "code",
   "source": [
    "// Bad: shared global constant couples unrelated classes to the same value\n",
    "object ConstantsGlobal {\n",
    "  val CrLf: String = \"\\r\\n\"\n",
    "}\n",
    "\n",
    "class RecordsCoupled(private val all: List[String]) {\n",
    "  def write(out: java.io.Writer): Unit = {\n",
    "    all.foreach { rec =>\n",
    "      out.write(rec)\n",
    "      out.write(ConstantsGlobal.CrLf) // hard dependency here\n",
    "    }\n",
    "  }\n",
    "}\n",
    "\n",
    "class RowsCoupled(private val all: List[String]) {\n",
    "  def print(p: java.io.PrintStream): Unit = {\n",
    "    all.foreach { row =>\n",
    "      p.print(s\"$row${ConstantsGlobal.CrLf}\") // hard dependency here\n",
    "    }\n",
    "  }\n",
    "}"
   ],
   "id": "f19033c98a9765dd",
   "outputs": [
    {
     "data": {
      "text/plain": [
       "defined \u001B[32mobject\u001B[39m \u001B[36mConstantsGlobal\u001B[39m\n",
       "defined \u001B[32mclass\u001B[39m \u001B[36mRecordsCoupled\u001B[39m\n",
       "defined \u001B[32mclass\u001B[39m \u001B[36mRowsCoupled\u001B[39m"
      ]
     },
     "execution_count": 13,
     "metadata": {},
     "output_type": "execute_result"
    }
   ],
   "execution_count": 13
  },
  {
   "metadata": {},
   "cell_type": "markdown",
   "source": [
    "Now, RecordsCoupled.write, RowsCoupled.print, and ConstantsGlobal.CrLf are all coupled. If we change CrLf (for example, to a platform-specific or protocol-specific value), the behavior of both classes changes, and it’s unclear whether those changes are acceptable. One user may be printing to the console, while another may be composing an HTTP message where the line ending is mandated and must not change.\n",
    "\n",
    "The constant sits in a global scope without semantic context. We can’t tell how it���s used or which usages are safe to alter. This erodes maintainability: many objects depend on a value whose meaning varies by context.\n",
    "\n",
    "A better design is to inject small objects that carry the context (as shown above with LineSeparator and Records2/Rows2), so each class depends on what it needs, and changes are localized.\n"
   ],
   "id": "19686020036e96b3"
  },
  {
   "metadata": {},
   "cell_type": "markdown",
   "source": [
    "## 2.5.2 Loss of cohesion\n",
    "\n",
    "Public constants push unrelated semantics into consumers. Records and Rows shouldn’t know how to apply a line ending; that’s a separate responsibility. Instead of sharing a naked value, share behavior with a tiny object that owns the meaning of the value.\n",
    "\n",
    "Key ideas:\n",
    "- Don’t share data, share behavior (micro classes).\n",
    "- Couple through contracts, not through globals.\n",
    "- Semantics live with the object that knows them.\n"
   ],
   "id": "8da822bc78ae0516"
  },
  {
   "metadata": {
    "ExecuteTime": {
     "end_time": "2025-09-03T11:32:46.512688Z",
     "start_time": "2025-09-03T11:32:45.755960Z"
    }
   },
   "cell_type": "code",
   "source": [
    "// A tiny object that owns the semantics of “append CRLF to a line”\n",
    "final case class CRLFString(private val origin: String) {\n",
    "  override def toString: String = s\"$origin\\r\\n\"\n",
    "}\n",
    "\n",
    "// Usage in code that writes records (no constant, no formatting logic here)\n",
    "final class Records3(private val all: List[String]) {\n",
    "  def write(out: java.io.Writer): Unit =\n",
    "    all.foreach { rec =>\n",
    "      out.write(CRLFString(rec))\n",
    "    }\n",
    "}\n"
   ],
   "id": "d8b888c37d3df85b",
   "outputs": [
    {
     "data": {
      "text/plain": [
       "defined \u001B[32mclass\u001B[39m \u001B[36mCRLFString\u001B[39m\n",
       "defined \u001B[32mclass\u001B[39m \u001B[36mRecords3\u001B[39m"
      ]
     },
     "execution_count": 23,
     "metadata": {},
     "output_type": "execute_result"
    }
   ],
   "execution_count": 23
  },
  {
   "metadata": {
    "ExecuteTime": {
     "end_time": "2025-09-03T11:35:48.802706Z",
     "start_time": "2025-09-03T11:35:47.943657Z"
    }
   },
   "cell_type": "code",
   "source": [
    "// Usage in code that prints rows (PrintStream can print any object via toString)\n",
    "final class Rows3(private val all: List[String]) {\n",
    "  def print(p: java.io.PrintStream): Unit =\n",
    "    all.foreach { row =>\n",
    "      p.print(CRLFString(row))\n",
    "    }\n",
    "}\n",
    "\n",
    "private val rows = new Rows3(List(\"row1\", \"row2\"))\n",
    "rows.print(System.out) // prints with CRLF\n"
   ],
   "id": "384eec1c651c99b3",
   "outputs": [
    {
     "name": "stdout",
     "output_type": "stream",
     "text": [
      "row1\r\n",
      "row2\r\n"
     ]
    },
    {
     "data": {
      "text/plain": [
       "defined \u001B[32mclass\u001B[39m \u001B[36mRows3\u001B[39m"
      ]
     },
     "execution_count": 25,
     "metadata": {},
     "output_type": "execute_result"
    }
   ],
   "execution_count": 25
  },
  {
   "metadata": {},
   "cell_type": "markdown",
   "source": "Platform-aware behavior stays encapsulated in the same micro class. The contract doesn’t change; only behavior does.\n",
   "id": "7bda00611e16bde7"
  },
  {
   "metadata": {
    "ExecuteTime": {
     "end_time": "2025-09-03T11:48:08.565738Z",
     "start_time": "2025-09-03T11:48:07.990146Z"
    }
   },
   "cell_type": "code",
   "source": [
    "final class SafeCRLFString(private val origin: String) {\n",
    "  override def toString: String = {\n",
    "    val os = java.lang.System.getProperty(\"os.name\", \"\").toLowerCase\n",
    "    if (os.contains(\"win\"))\n",
    "      throw new IllegalStateException(\"We're on Windows, can't use CRLF, sorry\")\n",
    "    s\"$origin\\r\\n\"\n",
    "  }\n",
    "}\n",
    "\n",
    "object SafeCRLFString {\n",
    "  def apply(origin: String): SafeCRLFString = new SafeCRLFString(origin)\n",
    "}\n"
   ],
   "id": "31649c5a99bef0f9",
   "outputs": [
    {
     "data": {
      "text/plain": [
       "defined \u001B[32mclass\u001B[39m \u001B[36mSafeCRLFString\u001B[39m\n",
       "defined \u001B[32mobject\u001B[39m \u001B[36mSafeCRLFString\u001B[39m"
      ]
     },
     "execution_count": 29,
     "metadata": {},
     "output_type": "execute_result"
    }
   ],
   "execution_count": 29
  },
  {
   "metadata": {},
   "cell_type": "markdown",
   "source": "Another example: replace HTTP method constants with tiny classes that configure a request.\n",
   "id": "65adba77fc78cc4b"
  },
  {
   "metadata": {},
   "cell_type": "code",
   "outputs": [],
   "execution_count": null,
   "source": [
    "// A very small HTTP request stub; the method is part of its state\n",
    "trait Request { def fetch(): String }\n",
    "\n",
    "final class HttpRequest extends Request {\n",
    "  private var method: String = \"GET\"\n",
    "  def withMethod(m: String): HttpRequest = { method = m; this }\n",
    "  override def fetch(): String = s\"Fetched with method=$method\"\n",
    "}\n",
    "\n",
    "// Instead of HttpMethods.POST constant, use a tiny configurator object\n",
    "final class PostRequest(private val origin: HttpRequest) extends Request {\n",
    "  override def fetch(): String = origin.withMethod(\"POST\").fetch()\n",
    "}\n",
    "\n",
    "// Usage\n",
    "val bodyViaPost: String = new PostRequest(new HttpRequest).fetch()"
   ],
   "id": "91f1ae5e08fadbd3"
  },
  {
   "metadata": {},
   "cell_type": "markdown",
   "source": [
    "## 2.6 Be immutable\n",
    "\n",
    "Make classes immutable to keep them small, cohesive, decoupled, and easy to reason about. An immutable object doesn’t change its state after creation; operations return new objects instead of mutating existing ones.\n",
    "\n",
    "Key ideas:\n",
    "- Prefer vals over vars; keep fields private and final by default.\n",
    "- Methods that “modify” return new instances (no setters).\n",
    "- Small, focused objects compose behavior instead of sharing mutable state.\n"
   ],
   "id": "cd22d830f0d35dcd"
  },
  {
   "metadata": {},
   "cell_type": "markdown",
   "source": "### Mutable vs. Immutable example (money arithmetic)\n",
   "id": "c25ca2b727f11efe"
  },
  {
   "metadata": {},
   "cell_type": "code",
   "outputs": [],
   "execution_count": null,
   "source": [
    "// Bad: mutable object with in-place modification\n",
    "final class MutableMoney(private var dollars: Int) {\n",
    "  def mul(factor: Int): Unit = { dollars *= factor }\n",
    "  override def toString: String = s\"$$$dollars\"\n",
    "}\n",
    "\n",
    "val fiveMut = new MutableMoney(5)\n",
    "fiveMut.mul(10)\n",
    "println(fiveMut) // \"$50\" — original object changed\n"
   ],
   "id": "3f632521577c2d9b"
  },
  {
   "metadata": {
    "ExecuteTime": {
     "end_time": "2025-09-03T12:26:44.850708Z",
     "start_time": "2025-09-03T12:26:44.163547Z"
    }
   },
   "cell_type": "code",
   "source": [
    "// Good: immutable object that returns a new instance\n",
    "final case class ImmutableMoney(private val dollars: Int) {\n",
    "  def mul(factor: Int): ImmutableMoney = copy(dollars = dollars * factor)\n",
    "  override def toString: String = s\"$$$dollars\"\n",
    "}\n",
    "\n",
    "val five = ImmutableMoney(5)\n",
    "val fifty = five.mul(10)\n",
    "println(five)   // \"$5\"\n",
    "println(fifty)  // \"$50\"\n"
   ],
   "id": "c79ea334db224f39",
   "outputs": [
    {
     "name": "stdout",
     "output_type": "stream",
     "text": [
      "$5\n",
      "$50\n"
     ]
    },
    {
     "data": {
      "text/plain": [
       "defined \u001B[32mclass\u001B[39m \u001B[36mImmutableMoney\u001B[39m\n",
       "\u001B[36mfive\u001B[39m: \u001B[32mImmutableMoney\u001B[39m = \u001B[33mImmutableMoney\u001B[39m(dollars = \u001B[32m5\u001B[39m)\n",
       "\u001B[36mfifty\u001B[39m: \u001B[32mImmutableMoney\u001B[39m = \u001B[33mImmutableMoney\u001B[39m(dollars = \u001B[32m50\u001B[39m)"
      ]
     },
     "execution_count": 32,
     "metadata": {},
     "output_type": "execute_result"
    }
   ],
   "execution_count": 32
  },
  {
   "metadata": {},
   "cell_type": "markdown",
   "source": [
    "Why this is better:\n",
    "- No hidden state changes; values read like they are named.\n",
    "- Easier to test and reason about; no ordering surprises.\n",
    "- Safer to share across threads (no synchronization needed for reads).\n"
   ],
   "id": "ec2573b0016a7c64"
  },
  {
   "metadata": {},
   "cell_type": "markdown",
   "source": [
    "### Practical rules of thumb for immutability in Scala\n",
    "\n",
    "- Use case classes and vals; avoid public vars and setters.\n",
    "- Prefer tiny value objects over exposing raw primitives.\n",
    "- Keep constructors doing all necessary initialization; don’t leave objects half-baked.\n",
    "- If you need a different value, construct a different object.\n"
   ],
   "id": "26011c89ad8c07fa"
  },
  {
   "metadata": {},
   "cell_type": "markdown",
   "source": [
    "### Lazy loading without mutability\n",
    "\n",
    "Lazy loading is often cited as a reason to mutate. In Scala, lazy val gives you safe, one-time initialization without exposing mutability.\n"
   ],
   "id": "4c12fdcaa6a647cf"
  },
  {
   "metadata": {
    "ExecuteTime": {
     "end_time": "2025-09-03T12:32:51.614399Z",
     "start_time": "2025-09-03T12:32:50.920133Z"
    }
   },
   "cell_type": "code",
   "source": [
    "// A source for HTML content\n",
    "trait HtmlSource { def fetch(uri: String): String }\n",
    "\n",
    "// Immutable page with lazy-loaded content\n",
    "final class PageLazy(private val uri: String, private val src: HtmlSource) {\n",
    "  // Thread-safe, computed once on first access, then cached\n",
    "  lazy private val html: String = src.fetch(uri)\n",
    "  def content: String = html\n",
    "}\n",
    "\n",
    "final class StubSource extends HtmlSource {\n",
    "  override def fetch(uri: String): String = s\"<html><body>Loaded $uri</body></html>\"\n",
    "}\n",
    "\n",
    "val page = new PageLazy(\"https://example.org\", new StubSource)\n",
    "println(page.content) // triggers fetch once\n",
    "println(page.content) // returns cached result\n"
   ],
   "id": "198e5f96952ed22b",
   "outputs": [
    {
     "name": "stdout",
     "output_type": "stream",
     "text": [
      "<html><body>Loaded https://example.org</body></html>\n",
      "<html><body>Loaded https://example.org</body></html>\n"
     ]
    },
    {
     "data": {
      "text/plain": [
       "defined \u001B[32mtrait\u001B[39m \u001B[36mHtmlSource\u001B[39m\n",
       "defined \u001B[32mclass\u001B[39m \u001B[36mPageLazy\u001B[39m\n",
       "defined \u001B[32mclass\u001B[39m \u001B[36mStubSource\u001B[39m\n",
       "\u001B[36mpage\u001B[39m: \u001B[32mPageLazy\u001B[39m = ammonite.$sess.cmd35$Helper$PageLazy@30ab8e82"
      ]
     },
     "execution_count": 35,
     "metadata": {},
     "output_type": "execute_result"
    }
   ],
   "execution_count": 35
  },
  {
   "metadata": {},
   "cell_type": "markdown",
   "source": [
    "Notes:\n",
    "- lazy val in Scala is thread-safe and evaluates at most once per instance.\n",
    "- Keep dependencies small (like HtmlSource) and inject them; PageLazy stays cohesive and testable.\n"
   ],
   "id": "7e07ddcd27e92282"
  },
  {
   "metadata": {},
   "cell_type": "markdown",
   "source": [
    "### A tiny, reusable memoization helper\n",
    "\n",
    "For computed values that aren’t fields, wrap the computation in a tiny object and memoize it.\n"
   ],
   "id": "8f8714b9a1c27ce2"
  },
  {
   "metadata": {
    "ExecuteTime": {
     "end_time": "2025-09-03T12:34:30.536078Z",
     "start_time": "2025-09-03T12:34:29.850979Z"
    }
   },
   "cell_type": "code",
   "source": [
    "final class Memoized[A](thunk: => A) {\n",
    "  // Evaluate on first access and cache thereafter\n",
    "  lazy val value: A = thunk\n",
    "}\n",
    "\n",
    "// Usage: any expensive computation\n",
    "def heavy(n: Int): Int = { println(s\"computing for $n\"); n * n }\n",
    "\n",
    "val squared = new Memoized(heavy(21))\n",
    "println(squared.value) // computes\n",
    "println(squared.value) // cached\n"
   ],
   "id": "857fc7176bb7ad82",
   "outputs": [
    {
     "name": "stdout",
     "output_type": "stream",
     "text": [
      "computing for 21\n",
      "441\n",
      "441\n"
     ]
    },
    {
     "data": {
      "text/plain": [
       "defined \u001B[32mclass\u001B[39m \u001B[36mMemoized\u001B[39m\n",
       "defined \u001B[32mfunction\u001B[39m \u001B[36mheavy\u001B[39m\n",
       "\u001B[36msquared\u001B[39m: \u001B[32mMemoized\u001B[39m[\u001B[32mInt\u001B[39m] = ammonite.$sess.cmd36$Helper$Memoized@23e43f74"
      ]
     },
     "execution_count": 36,
     "metadata": {},
     "output_type": "execute_result"
    }
   ],
   "execution_count": 36
  },
  {
   "metadata": {},
   "cell_type": "markdown",
   "source": [
    "### Takeaways\n",
    "\n",
    "- Don’t mutate objects; return new ones.\n",
    "- Use lazy val for one-time, cached initialization without sacrificing immutability.\n",
    "- Prefer micro-objects and explicit dependencies over shared mutable state."
   ],
   "id": "dba05e1c527f77ee"
  },
  {
   "metadata": {},
   "cell_type": "markdown",
   "source": [
    "### 2.6.1 Identity mutability\n",
    "\n",
    "Immutable objects don’t suffer from “identity mutability.” The bug appears when an object’s equality and hash code depend on mutable state: after the object is used as a key in a map (or element of a set), mutating it breaks the collection’s invariants. Lookups become unpredictable and duplicates (by equality) may appear.\n"
   ],
   "id": "afb127468c783cf"
  },
  {
   "metadata": {
    "ExecuteTime": {
     "end_time": "2025-09-04T21:48:46.188556Z",
     "start_time": "2025-09-04T21:48:45.075879Z"
    }
   },
   "cell_type": "code",
   "source": [
    "import scala.collection.mutable\n",
    "\n",
    "// Bad: key equality depends on mutable state\n",
    "final class MutableKeyMoney(private var _dollars: Int) {\n",
    "  def dollars: Int = _dollars\n",
    "  def mul(factor: Int): Unit = { _dollars *= factor }\n",
    "\n",
    "  // Equality and hashCode depend on (mutable) dollars\n",
    "  override def equals(obj: Any): Boolean = obj match {\n",
    "    case that: MutableKeyMoney => this._dollars == that._dollars\n",
    "    case _ => false\n",
    "  }\n",
    "  override def hashCode(): Int = java.lang.Integer.hashCode(_dollars)\n",
    "  override def toString: String = s\"$$$dollars\"\n",
    "}\n",
    "\n",
    "val map = mutable.HashMap[MutableKeyMoney, String]()\n",
    "val fiveK = new MutableKeyMoney(5)\n",
    "val tenK  = new MutableKeyMoney(10)\n",
    "map.put(fiveK, \"five\")\n",
    "map.put(tenK,  \"ten\")\n",
    "\n",
    "// Mutate one key after it has been placed in the map\n",
    "fiveK.mul(2) // now equals(tenK) and hashCode matches tenK\n",
    "\n",
    "println(map)                  // keys may look equal ($10, $10), but both entries still exist internally\n",
    "println(map.get(fiveK))       // lookup may fail or be inconsistent (hash bucket mismatch)\n",
    "println(map.get(tenK))        // may succeed, highlighting the broken invariant\n",
    "println(map.keys.count(k => k == fiveK)) // > 1 by equality, revealing duplicates by equals()\n"
   ],
   "id": "fcccf7226643e5d5",
   "outputs": [
    {
     "name": "stdout",
     "output_type": "stream",
     "text": [
      "HashMap($10 -> five, $10 -> ten)\n",
      "Some(ten)\n",
      "Some(ten)\n",
      "2\n"
     ]
    },
    {
     "data": {
      "text/plain": [
       "\u001B[32mimport \u001B[39m\u001B[36mscala.collection.mutable\n",
       "\n",
       "// Bad: key equality depends on mutable state\n",
       "\u001B[39m\n",
       "defined \u001B[32mclass\u001B[39m \u001B[36mMutableKeyMoney\u001B[39m\n",
       "\u001B[36mmap\u001B[39m: \u001B[32mHashMap\u001B[39m[\u001B[32mMutableKeyMoney\u001B[39m, \u001B[32mString\u001B[39m] = \u001B[33mHashMap\u001B[39m($10 -> \u001B[32m\"five\"\u001B[39m, $10 -> \u001B[32m\"ten\"\u001B[39m)\n",
       "\u001B[36mfiveK\u001B[39m: \u001B[32mMutableKeyMoney\u001B[39m = $10\n",
       "\u001B[36mtenK\u001B[39m: \u001B[32mMutableKeyMoney\u001B[39m = $10\n",
       "\u001B[36mres37_5\u001B[39m: \u001B[32mOption\u001B[39m[\u001B[32mString\u001B[39m] = \u001B[32mNone\u001B[39m\n",
       "\u001B[36mres37_6\u001B[39m: \u001B[32mOption\u001B[39m[\u001B[32mString\u001B[39m] = \u001B[32mNone\u001B[39m"
      ]
     },
     "execution_count": 37,
     "metadata": {},
     "output_type": "execute_result"
    }
   ],
   "execution_count": 37
  },
  {
   "metadata": {},
   "cell_type": "markdown",
   "source": [
    "Why this happens:\n",
    "- Hash-based collections place keys into buckets using hashCode computed at insertion time.\n",
    "- If hashCode/equals depend on mutable fields and those fields change after insertion, the stored bucket no longer matches the key’s identity.\n",
    "- Future lookups use the new hash/equality and search the wrong bucket; duplicates-by-equality can also appear.\n"
   ],
   "id": "2faaa4a59f87bc39"
  },
  {
   "metadata": {},
   "cell_type": "markdown",
   "source": "Safe alternative: immutable keys (stable equality)\n",
   "id": "110f37ac155dd13"
  },
  {
   "metadata": {
    "ExecuteTime": {
     "end_time": "2025-09-09T12:36:55.659125Z",
     "start_time": "2025-09-09T12:36:54.344185Z"
    }
   },
   "cell_type": "code",
   "source": [
    "import scala.collection.mutable\n",
    "\n",
    "// Good: immutable key with stable equals/hashCode\n",
    "final case class MoneyKey(dollars: Int) {\n",
    "  override def toString: String = s\"$$$dollars\"\n",
    "}\n",
    "\n",
    "val safe = mutable.HashMap[MoneyKey, String]()\n",
    "safe.put(MoneyKey(5),  \"five\")\n",
    "safe.put(MoneyKey(10), \"ten\")\n",
    "\n",
    "// We “change” by creating a new key; the old entry remains valid\n",
    "val fiveKey = MoneyKey(5)\n",
    "safe.put(fiveKey.copy(dollars = fiveKey.dollars * 2), \"ten-again\")\n",
    "\n",
    "println(safe)                 // Map($5 -> five, $10 -> ten-again)\n",
    "println(safe.get(MoneyKey(10))) // deterministic and consistent\n"
   ],
   "id": "c17cfa8844d6fa06",
   "outputs": [
    {
     "name": "stdout",
     "output_type": "stream",
     "text": [
      "HashMap($5 -> five, $10 -> ten-again)\n",
      "Some(ten-again)\n"
     ]
    },
    {
     "data": {
      "text/plain": [
       "\u001B[32mimport \u001B[39m\u001B[36mscala.collection.mutable\n",
       "\n",
       "// Good: immutable key with stable equals/hashCode\n",
       "\u001B[39m\n",
       "defined \u001B[32mclass\u001B[39m \u001B[36mMoneyKey\u001B[39m\n",
       "\u001B[36msafe\u001B[39m: \u001B[32mHashMap\u001B[39m[\u001B[32mMoneyKey\u001B[39m, \u001B[32mString\u001B[39m] = \u001B[33mHashMap\u001B[39m(\n",
       "  \u001B[33mMoneyKey\u001B[39m(dollars = \u001B[32m5\u001B[39m) -> \u001B[32m\"five\"\u001B[39m,\n",
       "  \u001B[33mMoneyKey\u001B[39m(dollars = \u001B[32m10\u001B[39m) -> \u001B[32m\"ten-again\"\u001B[39m\n",
       ")\n",
       "\u001B[36mres5_3\u001B[39m: \u001B[32mOption\u001B[39m[\u001B[32mString\u001B[39m] = \u001B[32mNone\u001B[39m\n",
       "\u001B[36mres5_4\u001B[39m: \u001B[32mOption\u001B[39m[\u001B[32mString\u001B[39m] = \u001B[32mNone\u001B[39m\n",
       "\u001B[36mfiveKey\u001B[39m: \u001B[32mMoneyKey\u001B[39m = \u001B[33mMoneyKey\u001B[39m(dollars = \u001B[32m5\u001B[39m)\n",
       "\u001B[36mres5_6\u001B[39m: \u001B[32mOption\u001B[39m[\u001B[32mString\u001B[39m] = \u001B[33mSome\u001B[39m(value = \u001B[32m\"ten\"\u001B[39m)"
      ]
     },
     "execution_count": 5,
     "metadata": {},
     "output_type": "execute_result"
    }
   ],
   "execution_count": 5
  },
  {
   "metadata": {},
   "cell_type": "markdown",
   "source": [
    "Guidelines to avoid identity mutability bugs:\n",
    "- Never use mutable objects as keys in HashMap/HashSet (or any hashed structure).\n",
    "- Ensure equals/hashCode rely only on immutable state. Prefer case classes for value objects.\n",
    "- Keep classes final with private vals; expose behavior, not setters.\n",
    "- “Modifications” should produce new objects, leaving existing map keys valid forever.\n"
   ],
   "id": "6d46d3f112fd06a"
  },
  {
   "metadata": {},
   "cell_type": "markdown",
   "source": [
    "### 2.6.2 Failure atomicity\n",
    "\n",
    "Failure atomicity means an operation either succeeds completely or it fails leaving the object exactly as it was before the attempt. Immutable objects give you this for free: since they never mutate internal state, either a new object is created (success) or an exception is thrown (failure) and the original object remains intact. Mutable objects, on the other hand, can easily end up half‑updated when an exception is raised mid‑way through a method.\n",
    "\n",
    "We will contrast three implementations:\n",
    "1. A naive mutable implementation that can leave the object inconsistent on failure.\n",
    "2. An immutable version that is naturally failure atomic.\n",
    "3. A mutable implementation that manually restores prior state (higher complexity / risk)."
   ],
   "id": "892652c9258e9b45"
  },
  {
   "metadata": {},
   "cell_type": "markdown",
   "source": "#### 1. Naive mutable object (partial update on failure)",
   "id": "91ac0f7b1774e6d7"
  },
  {
   "metadata": {
    "ExecuteTime": {
     "end_time": "2025-09-08T12:56:40.497236Z",
     "start_time": "2025-09-08T12:56:39.761373Z"
    }
   },
   "cell_type": "code",
   "source": [
    "final class CashMutablePartial(private var dollars: Int, private var cents: Int) {\n",
    "  // Multiplies both parts; negative factor simulates a validation failure mid-way\n",
    "  def mul(factor: Int): Unit = {\n",
    "    dollars *= factor              // (1) state already changed\n",
    "    if (factor < 0) {              // simulate a validation problem discovered after first change\n",
    "      throw new IllegalArgumentException(\"factor must be non-negative\")\n",
    "    }\n",
    "    cents *= factor                // (2) never reached if exception above; cents stays old value\n",
    "  }\n",
    "  override def toString: String = f\"$$$dollars%d.$cents%02d\"\n",
    "}\n",
    "\n",
    "val partialCash = new CashMutablePartial(10, 50)\n",
    "println(s\"Before (partial): $partialCash\")\n",
    "try partialCash.mul(-2) catch { case e: Exception => println(s\"Failed: ${e.getMessage}\") }\n",
    "println(s\"After failure (partial):  $partialCash  // dollars changed, cents not -> inconsistent state\")"
   ],
   "id": "f52b19773d136eb4",
   "outputs": [
    {
     "name": "stdout",
     "output_type": "stream",
     "text": [
      "Before (partial): $10.50\n",
      "Failed: factor must be non-negative\n",
      "After failure (partial):  $-20.50  // dollars changed, cents not -> inconsistent state\n"
     ]
    },
    {
     "data": {
      "text/plain": [
       "defined \u001B[32mclass\u001B[39m \u001B[36mCashMutablePartial\u001B[39m\n",
       "\u001B[36mpartialCash\u001B[39m: \u001B[32mCashMutablePartial\u001B[39m = $-20.50"
      ]
     },
     "execution_count": 3,
     "metadata": {},
     "output_type": "execute_result"
    }
   ],
   "execution_count": 3
  },
  {
   "metadata": {},
   "cell_type": "markdown",
   "source": "The object is left in a broken, intermediate state: dollars changed; cents did not. Any subsequent logic now operates on corrupt data.",
   "id": "f561ca972282cb17"
  },
  {
   "metadata": {},
   "cell_type": "markdown",
   "source": "#### 2. Immutable version (automatic failure atomicity)",
   "id": "3929c6df3bbf26ba"
  },
  {
   "metadata": {
    "ExecuteTime": {
     "end_time": "2025-09-08T12:56:37.460686Z",
     "start_time": "2025-09-08T12:56:36.089745Z"
    }
   },
   "cell_type": "code",
   "source": [
    "final case class CashImmutable(dollars: Int, cents: Int) {\n",
    "  def mul(factor: Int): CashImmutable = {\n",
    "    if (factor < 0) throw new IllegalArgumentException(\"factor must be non-negative\")\n",
    "    copy(dollars = dollars * factor, cents = cents * factor)\n",
    "  }\n",
    "  override def toString: String = f\"$$$dollars%d.$cents%02d\"\n",
    "}\n",
    "\n",
    "val original = CashImmutable(10, 50)\n",
    "println(s\"Original (immutable): $original\")\n",
    "val twenty = original.mul(2)\n",
    "println(s\"After success (immutable): $twenty (original still $original)\")\n",
    "try original.mul(-3) catch { case e: Exception => println(s\"Immutable failed, original preserved: $original (${e.getMessage})\") }"
   ],
   "id": "4b31e283ff8316b5",
   "outputs": [
    {
     "name": "stdout",
     "output_type": "stream",
     "text": [
      "Original (immutable): $10.50\n",
      "After success (immutable): $20.100 (original still $10.50)\n",
      "Immutable failed, original preserved: $10.50 (factor must be non-negative)\n"
     ]
    },
    {
     "data": {
      "text/plain": [
       "defined \u001B[32mclass\u001B[39m \u001B[36mCashImmutable\u001B[39m\n",
       "\u001B[36moriginal\u001B[39m: \u001B[32mCashImmutable\u001B[39m = \u001B[33mCashImmutable\u001B[39m(dollars = \u001B[32m10\u001B[39m, cents = \u001B[32m50\u001B[39m)\n",
       "\u001B[36mtwenty\u001B[39m: \u001B[32mCashImmutable\u001B[39m = \u001B[33mCashImmutable\u001B[39m(dollars = \u001B[32m20\u001B[39m, cents = \u001B[32m100\u001B[39m)\n",
       "\u001B[36mres2_5\u001B[39m: Helper.this.CashImmutable | scala.Unit = ()"
      ]
     },
     "execution_count": 2,
     "metadata": {},
     "output_type": "execute_result"
    }
   ],
   "execution_count": 2
  },
  {
   "metadata": {},
   "cell_type": "markdown",
   "source": "Because the immutable method creates and returns a new object, either it succeeds (returning a new consistent instance) or it throws, leaving the caller's reference untouched.",
   "id": "b2e9148560d8d913"
  },
  {
   "metadata": {},
   "cell_type": "markdown",
   "source": "#### 3. Manually failure-atomic mutable implementation",
   "id": "fabd05b85418511a"
  },
  {
   "metadata": {
    "ExecuteTime": {
     "end_time": "2025-09-08T12:56:31.653062Z",
     "start_time": "2025-09-08T12:56:29.974709Z"
    }
   },
   "cell_type": "code",
   "source": [
    "final class CashMutableAtomic(private var dollars: Int, private var cents: Int) {\n",
    "  def mul(factor: Int): Unit = {\n",
    "    // Snapshot old state\n",
    "    val beforeD = dollars\n",
    "    val beforeC = cents\n",
    "    try {\n",
    "      dollars = dollars * factor\n",
    "      if (factor < 0) throw new IllegalArgumentException(\"factor must be non-negative\")\n",
    "      cents = cents * factor\n",
    "    } catch {\n",
    "      case e: Exception =>\n",
    "        // Roll back all mutated fields\n",
    "        dollars = beforeD\n",
    "        cents = beforeC\n",
    "        throw e\n",
    "    }\n",
    "  }\n",
    "  override def toString: String = f\"$$$dollars%d.$cents%02d\"\n",
    "}\n",
    "\n",
    "val atomic = new CashMutableAtomic(10, 50)\n",
    "println(s\"Before (atomic): $atomic\")\n",
    "try atomic.mul(-4) catch { case e: Exception => println(s\"Rolled back after failure: $atomic (${e.getMessage})\") }\n",
    "atomic.mul(3)\n",
    "println(s\"After success (atomic):  $atomic\")"
   ],
   "id": "85d8853494896a9e",
   "outputs": [
    {
     "name": "stdout",
     "output_type": "stream",
     "text": [
      "Before (atomic): $10.50\n",
      "Rolled back after failure: $10.50 (factor must be non-negative)\n",
      "After success (atomic):  $30.150\n"
     ]
    },
    {
     "data": {
      "text/plain": [
       "defined \u001B[32mclass\u001B[39m \u001B[36mCashMutableAtomic\u001B[39m\n",
       "\u001B[36matomic\u001B[39m: \u001B[32mCashMutableAtomic\u001B[39m = $30.150"
      ]
     },
     "execution_count": 1,
     "metadata": {},
     "output_type": "execute_result"
    }
   ],
   "execution_count": 1
  },
  {
   "metadata": {},
   "cell_type": "markdown",
   "source": [
    "This version preserves invariants by copying and restoring prior state on failure. It works, but at a cost:\n",
    "\n",
    "- Boilerplate grows with the number of fields.\n",
    "- Easy to miss a field during rollback (especially after future modifications).\n",
    "- Harder to read; exception handling intertwines with business logic.\n",
    "- Encourages adding more state (since mutation seems \"managed\"), increasing risk.\n",
    "\n",
    "Immutable design avoids all of this incidental complexity."
   ],
   "id": "380dc2b49f933d76"
  },
  {
   "metadata": {},
   "cell_type": "markdown",
   "source": [
    "#### Takeaways (Failure Atomicity)\n",
    "\n",
    "1. Immutable objects are inherently failure atomic: no partial mutations can leak out.\n",
    "2. Naive mutable code often leaves objects half-updated when exceptions occur.\n",
    "3. Achieving failure atomicity in mutable objects requires defensive snapshots and rollback logic (error-prone / verbose).\n",
    "4. Prefer immutable value objects (case classes) for operations that transform state; return new instances.\n",
    "5. If mutability is unavoidable (performance / interoperability), isolate it behind a tiny API and rigorously maintain invariants.\n",
    "\n",
    "Failure atomicity reduces debugging time, increases trust in invariants, and keeps methods focused on domain logic instead of state management scaffolding."
   ],
   "id": "46716e6515bbe80c"
  },
  {
   "metadata": {},
   "cell_type": "markdown",
   "source": [
    "### 2.6.3 Temporal coupling\n",
    "\n",
    "Temporal coupling happens when the correctness of code depends on the chronological order of separate statements that manipulate the same (mutable) object. The object is born incomplete, then gradually “filled in” via setters or mutators. Rearranging or omitting any of those statements silently breaks logic while still compiling.\n",
    "\n",
    "Immutability eliminates this category of risk by forcing full initialization at construction time: one expression creates a complete, valid object. There is nothing to “remember” about sequencing afterwards.\n"
   ],
   "id": "9afeb960e50345dc"
  },
  {
   "metadata": {},
   "cell_type": "markdown",
   "source": "#### 1. Mutable (JavaBean‑style) object requiring ordered setters\n",
   "id": "e54785647f2b1c4e"
  },
  {
   "metadata": {
    "ExecuteTime": {
     "end_time": "2025-09-09T12:58:42.854838Z",
     "start_time": "2025-09-09T12:58:42.071640Z"
    }
   },
   "cell_type": "code",
   "source": [
    "// A mutable bean-like Cash with temporal coupling in its usage\n",
    "final class CashBean {\n",
    "  private var dollars: Int = 0     // starts uninitialized (semantic NULL)\n",
    "  private var cents: Int   = 0\n",
    "  def setDollars(d: Int): Unit = { dollars = d }\n",
    "  def setCents(c: Int): Unit = { cents = c }\n",
    "  override def toString: String = f\"$$${dollars}%d.${cents}%02d\"\n",
    "}\n",
    "\n",
    "// Correct order (instantiate, then set both, then use)\n",
    "val bean = new CashBean()\n",
    "bean.setDollars(29)\n",
    "bean.setCents(95)\n",
    "println(s\"Correct:  $bean\")  // \"$29.95\"\n"
   ],
   "id": "867c8541c95e99c0",
   "outputs": [
    {
     "name": "stdout",
     "output_type": "stream",
     "text": [
      "Correct:  $29.95\n"
     ]
    },
    {
     "data": {
      "text/plain": [
       "defined \u001B[32mclass\u001B[39m \u001B[36mCashBean\u001B[39m\n",
       "\u001B[36mbean\u001B[39m: \u001B[32mCashBean\u001B[39m = $29.95"
      ]
     },
     "execution_count": 10,
     "metadata": {},
     "output_type": "execute_result"
    }
   ],
   "execution_count": 10
  },
  {
   "metadata": {},
   "cell_type": "markdown",
   "source": "Reordering still compiles, but produces the wrong result because printing happens before full initialization:\n",
   "id": "f4643a5a1f22b2c0"
  },
  {
   "metadata": {
    "ExecuteTime": {
     "end_time": "2025-09-09T12:58:46.699418Z",
     "start_time": "2025-09-09T12:58:46.019114Z"
    }
   },
   "cell_type": "code",
   "source": [
    "val beanWrong = new CashBean()\n",
    "beanWrong.setDollars(29)\n",
    "println(s\"Printed too early:  $beanWrong\") // \"$29.00\" (cents not set yet)\n",
    "beanWrong.setCents(95)                     // Late; no compiler/runtime warning\n"
   ],
   "id": "61a48d8113539c1b",
   "outputs": [
    {
     "name": "stdout",
     "output_type": "stream",
     "text": [
      "Printed too early:  $29.00\n"
     ]
    },
    {
     "data": {
      "text/plain": [
       "\u001B[36mbeanWrong\u001B[39m: \u001B[32mCashBean\u001B[39m = $29.95"
      ]
     },
     "execution_count": 11,
     "metadata": {},
     "output_type": "execute_result"
    }
   ],
   "execution_count": 11
  },
  {
   "metadata": {},
   "cell_type": "markdown",
   "source": [
    "#### 2. Temporal coupling amplified by distance\n",
    "\n",
    "Distance (other logic between setter calls) makes coupling harder to spot:\n"
   ],
   "id": "8d049fc7e1b20f8c"
  },
  {
   "metadata": {
    "ExecuteTime": {
     "end_time": "2025-09-09T13:03:23.784802Z",
     "start_time": "2025-09-09T13:03:22.955517Z"
    }
   },
   "cell_type": "code",
   "source": [
    "val distant = new CashBean()\n",
    "// 1) some unrelated logic (pretend this block is large & complicated)\n",
    "val xs = (1 to 100).map(_ * 2).sum // noise before real initialization\n",
    "// 2) first part of initialization\n",
    "val x = 42 // pretend we computed this; irrelevant\n",
    "// Set dollars derived from some earlier computation\n",
    "val computedDollars = 17 + 12\n",
    "distant.setDollars(computedDollars)\n",
    "\n",
    "// 50 lines later (imagine transformations, conditionals, loops, logging, etc.)\n",
    "val ys = (1 to 50).filter(_ % 7 == 0).sum // more noise\n",
    "// Only now we finally remember to set cents\n",
    "val computedCents = 95\n",
    "distant.setCents(computedCents)\n",
    "\n",
    "// If someone moves this print higher (above setCents) they introduce a bug that still compiles\n",
    "println(s\"Distant: $distant\")\n"
   ],
   "id": "252fe5c438719d01",
   "outputs": [
    {
     "name": "stdout",
     "output_type": "stream",
     "text": [
      "Distant: $29.95\n"
     ]
    },
    {
     "data": {
      "text/plain": [
       "\u001B[36mdistant\u001B[39m: \u001B[32mCashBean\u001B[39m = $29.95\n",
       "\u001B[36mxs\u001B[39m: \u001B[32mInt\u001B[39m = \u001B[32m10100\u001B[39m\n",
       "\u001B[36mx\u001B[39m: \u001B[32mInt\u001B[39m = \u001B[32m42\u001B[39m\n",
       "\u001B[36mcomputedDollars\u001B[39m: \u001B[32mInt\u001B[39m = \u001B[32m29\u001B[39m\n",
       "\u001B[36mys\u001B[39m: \u001B[32mInt\u001B[39m = \u001B[32m196\u001B[39m\n",
       "\u001B[36mcomputedCents\u001B[39m: \u001B[32mInt\u001B[39m = \u001B[32m95\u001B[39m"
      ]
     },
     "execution_count": 15,
     "metadata": {},
     "output_type": "execute_result"
    }
   ],
   "execution_count": 15
  },
  {
   "metadata": {},
   "cell_type": "markdown",
   "source": [
    "At every maintenance step, a reader must mentally reconstruct the implicit ordering contract: “all setters must run before any use.” The compiler can’t help.\n",
    "\n",
    "Problems:\n",
    "- Objects exist in a transient, invalid state for a period of time.\n",
    "- Readability & refactor safety degrade as distance grows.\n",
    "- Partial initialization bugs are silent (no type signal, no runtime exception).\n",
    "- Parallelizing or reordering logic becomes risky.\n"
   ],
   "id": "4dd2f590f80f7c5e"
  },
  {
   "metadata": {},
   "cell_type": "markdown",
   "source": "#### 3. Immutable value object (no temporal coupling)\n",
   "id": "56c151772050990"
  },
  {
   "metadata": {
    "ExecuteTime": {
     "end_time": "2025-09-10T11:29:40.013494Z",
     "start_time": "2025-09-10T11:29:39.214748Z"
    }
   },
   "cell_type": "code",
   "source": [
    "// Immutable: fully initialized at construction, validated once\n",
    "final case class CashImmutableTemporal(dollars: Int, cents: Int) {\n",
    "  require(dollars >= 0, \"dollars must be non-negative\")\n",
    "  require(cents >= 0 && cents < 100, \"cents must be 0..99\")\n",
    "  override def toString: String = f\"$$$dollars%d.$cents%02d\"\n",
    "\n",
    "  // Transformation returns a NEW object instead of mutating\n",
    "  def plus(other: CashImmutableTemporal): CashImmutableTemporal = {\n",
    "    val totalCents = this.cents + other.cents\n",
    "    val carry = totalCents / 100\n",
    "    CashImmutableTemporal(this.dollars + other.dollars + carry, totalCents % 100)\n",
    "  }\n",
    "}\n",
    "\n",
    "val price  = CashImmutableTemporal(29, 95)\n",
    "val tax    = CashImmutableTemporal( 0,  80)\n",
    "val total  = price.plus(tax)\n",
    "println(s\"Price: $price  Tax: $tax  Total: $total\")\n"
   ],
   "id": "9896d1379a3fb0f3",
   "outputs": [
    {
     "name": "stdout",
     "output_type": "stream",
     "text": [
      "Price: $29.95  Tax: $0.80  Total: $30.75\n"
     ]
    },
    {
     "data": {
      "text/plain": [
       "defined \u001B[32mclass\u001B[39m \u001B[36mCashImmutableTemporal\u001B[39m\n",
       "\u001B[36mprice\u001B[39m: \u001B[32mCashImmutableTemporal\u001B[39m = \u001B[33mCashImmutableTemporal\u001B[39m(dollars = \u001B[32m29\u001B[39m, cents = \u001B[32m95\u001B[39m)\n",
       "\u001B[36mtax\u001B[39m: \u001B[32mCashImmutableTemporal\u001B[39m = \u001B[33mCashImmutableTemporal\u001B[39m(dollars = \u001B[32m0\u001B[39m, cents = \u001B[32m80\u001B[39m)\n",
       "\u001B[36mtotal\u001B[39m: \u001B[32mCashImmutableTemporal\u001B[39m = \u001B[33mCashImmutableTemporal\u001B[39m(dollars = \u001B[32m30\u001B[39m, cents = \u001B[32m75\u001B[39m)"
      ]
     },
     "execution_count": 18,
     "metadata": {},
     "output_type": "execute_result"
    }
   ],
   "execution_count": 18
  },
  {
   "metadata": {},
   "cell_type": "markdown",
   "source": [
    "You can’t “forget” to set cents: the constructor forces both dollars and cents to be provided. There is no legal intermediate state, and usage order is irrelevant beyond standard data dependencies.\n",
    "\n",
    "Benefits:\n",
    "- Construction is atomic: one expression yields a valid object.\n",
    "- Order independence: no hidden sequencing contract to remember.\n",
    "- Fewer states to test (no half-initialized permutations).\n",
    "- Referential transparency of transformations (price.plus(tax) is pure).\n"
   ],
   "id": "ec2643322babb2b6"
  },
  {
   "metadata": {},
   "cell_type": "markdown",
   "source": [
    "#### 4. Eliminating temporal coupling with micro value objects\n",
    "\n",
    "Even if values come from distant computations, produce tiny immutable intermediates and compose them once:\n"
   ],
   "id": "eac5803b93ce3fc"
  },
  {
   "metadata": {
    "ExecuteTime": {
     "end_time": "2025-09-10T11:38:43.742991Z",
     "start_time": "2025-09-10T11:38:42.241076Z"
    }
   },
   "cell_type": "code",
   "source": [
    "final case class Dollars(value: Int) { require(value >= 0) }\n",
    "final case class Cents(value: Int)   { require(value >= 0 && value < 100) }\n",
    "final case class Price(parts: (Dollars, Cents)) {\n",
    "  private val (d, c) = parts\n",
    "  override def toString: String = f\"$$${d.value}%d.${c.value}%02d\"\n",
    "}\n",
    "\n",
    "// Simulate distant computations\n",
    "val dPart: Dollars = { /* many lines... */ Dollars(29) }\n",
    "val cPart: Cents   = { /* many more lines... */ Cents(95) }\n",
    "// Composition happens once, at the point of actual need\n",
    "val composed = Price(dPart -> cPart)\n",
    "println(s\"Composed price: $composed\")\n"
   ],
   "id": "49bf21809280f0d6",
   "outputs": [
    {
     "name": "stdout",
     "output_type": "stream",
     "text": [
      "Composed price: $29.95\n"
     ]
    },
    {
     "data": {
      "text/plain": [
       "defined \u001B[32mclass\u001B[39m \u001B[36mDollars\u001B[39m\n",
       "defined \u001B[32mclass\u001B[39m \u001B[36mCents\u001B[39m\n",
       "defined \u001B[32mclass\u001B[39m \u001B[36mPrice\u001B[39m\n",
       "\u001B[36mdPart\u001B[39m: \u001B[32mDollars\u001B[39m = \u001B[33mDollars\u001B[39m(value = \u001B[32m29\u001B[39m)\n",
       "\u001B[36mcPart\u001B[39m: \u001B[32mCents\u001B[39m = \u001B[33mCents\u001B[39m(value = \u001B[32m95\u001B[39m)\n",
       "\u001B[36mcomposed\u001B[39m: \u001B[32mPrice\u001B[39m = \u001B[33mPrice\u001B[39m(parts = (\u001B[33mDollars\u001B[39m(value = \u001B[32m29\u001B[39m), \u001B[33mCents\u001B[39m(value = \u001B[32m95\u001B[39m)))"
      ]
     },
     "execution_count": 22,
     "metadata": {},
     "output_type": "execute_result"
    }
   ],
   "execution_count": 22
  },
  {
   "metadata": {},
   "cell_type": "markdown",
   "source": "Each sub-object is itself already valid; final assembly remains a single, obvious step. There is still no temporal fragility—reordering dPart & cPart computations (if independent) does not risk a half-baked Price.\n",
   "id": "44ef76f3ca87c536"
  },
  {
   "metadata": {},
   "cell_type": "markdown",
   "source": [
    "#### 5. Takeaways (Temporal Coupling)\n",
    "\n",
    "1. Mutable “bean” patterns force readers to memorize a correct sequence (instantiate → set all fields → use). That sequence is invisible to the type system.\n",
    "2. Distance between setter calls hides bugs and discourages refactoring and reordering.\n",
    "3. Immutable constructors collapse instantiation + initialization into a single, enforced step.\n",
    "4. Pure transformation methods (returning new objects) keep objects always valid—no transitional states.\n",
    "5. Micro value objects (Dollars, Cents) let you spread computations without re-introducing temporal coupling.\n",
    "6. Less temporal coupling → easier parallelization, testing, and reasoning; fewer timing / order-of-operations defects.\n",
    "\n",
    "In short: immutability erases an entire class of ordering problems; the compiler helps you maintain invariants instead of relying on human memory."
   ],
   "id": "b8714cf3844887d7"
  },
  {
   "metadata": {},
   "cell_type": "markdown",
   "source": [
    "### 2.6.4 Side effect-free\n",
    "\n",
    "A side effect is any observable mutation that escapes the scope where it happens. Mutable objects make accidental side effects easy: a method that *looks* like a pure printer can silently change its argument. This increases debugging time because every caller becomes a suspect."
   ],
   "id": "1ef3ed031a347483"
  },
  {
   "metadata": {
    "ExecuteTime": {
     "end_time": "2025-09-10T12:00:52.834066Z",
     "start_time": "2025-09-10T12:00:51.955104Z"
    }
   },
   "cell_type": "code",
   "source": [
    "// Mutable example: printing also mutates the argument (hidden side effect)\n",
    "final class CashSide(private var dollars: Int) {\n",
    "  def mul(f: Int): Unit = { dollars *= f }\n",
    "  override def toString: String = s\"$$$dollars\"\n",
    "}\n",
    "\n",
    "def printBad(price: CashSide): Unit = {\n",
    "  println(s\"Today price is: $price\")\n",
    "  price.mul(2)                // sneaky mutation\n",
    "  println(s\"Buy now, tomorrow price is: $price\")\n",
    "}\n",
    "\n",
    "val fiveSide = new CashSide(5)\n",
    "printBad(fiveSide)\n",
    "println(s\"After call (oops, changed): $fiveSide\")"
   ],
   "id": "ca36a895ec35a8f",
   "outputs": [
    {
     "name": "stdout",
     "output_type": "stream",
     "text": [
      "Today price is: $5\n",
      "Buy now, tomorrow price is: $10\n",
      "After call (oops, changed): $10\n"
     ]
    },
    {
     "data": {
      "text/plain": [
       "defined \u001B[32mclass\u001B[39m \u001B[36mCashSide\u001B[39m\n",
       "defined \u001B[32mfunction\u001B[39m \u001B[36mprintBad\u001B[39m\n",
       "\u001B[36mfiveSide\u001B[39m: \u001B[32mCashSide\u001B[39m = $10"
      ]
     },
     "execution_count": 23,
     "metadata": {},
     "output_type": "execute_result"
    }
   ],
   "execution_count": 23
  },
  {
   "metadata": {},
   "cell_type": "markdown",
   "source": "Because `printBad` mutates its parameter, the caller observes an unexpected new value. Tracing this in a large code base is costly.",
   "id": "7f46c91b7f2db920"
  },
  {
   "metadata": {
    "ExecuteTime": {
     "end_time": "2025-09-10T12:03:06.566163Z",
     "start_time": "2025-09-10T12:03:05.897959Z"
    }
   },
   "cell_type": "code",
   "source": [
    "// Immutable alternative: no hidden mutation, transformation is explicit\n",
    "final case class CashPure(dollars: Int) {\n",
    "  def mul(f: Int): CashPure = copy(dollars = dollars * f) // returns a NEW value\n",
    "  override def toString: String = s\"$$$dollars\"\n",
    "}\n",
    "\n",
    "def printPure(price: CashPure): Unit = {\n",
    "  println(s\"Today price is: $price\")\n",
    "  val tomorrow = price.mul(2)      // explicit new value\n",
    "  println(s\"Buy now, tomorrow price is: $tomorrow\")\n",
    "}\n",
    "\n",
    "val fivePure = CashPure(5)\n",
    "printPure(fivePure)\n",
    "println(s\"After call (still original): $fivePure\")"
   ],
   "id": "551e55c469a19aa2",
   "outputs": [
    {
     "name": "stdout",
     "output_type": "stream",
     "text": [
      "Today price is: $5\n",
      "Buy now, tomorrow price is: $10\n",
      "After call (still original): $5\n"
     ]
    },
    {
     "data": {
      "text/plain": [
       "defined \u001B[32mclass\u001B[39m \u001B[36mCashPure\u001B[39m\n",
       "defined \u001B[32mfunction\u001B[39m \u001B[36mprintPure\u001B[39m\n",
       "\u001B[36mfivePure\u001B[39m: \u001B[32mCashPure\u001B[39m = \u001B[33mCashPure\u001B[39m(dollars = \u001B[32m5\u001B[39m)"
      ]
     },
     "execution_count": 25,
     "metadata": {},
     "output_type": "execute_result"
    }
   ],
   "execution_count": 25
  },
  {
   "metadata": {},
   "cell_type": "markdown",
   "source": [
    "Takeaways (Side effect-free):\n",
    "- Hidden mutations create debugging noise; every use-site must be audited.\n",
    "- Immutability guarantees arguments remain trustworthy after calls.\n",
    "- Methods either return a new value (builder) or just act (manipulator) — never both.\n",
    "- Favor explicit returned results over in-place modification; it localizes change and prevents surprises."
   ],
   "id": "7720316fa0eda4fd"
  },
  {
   "metadata": {},
   "cell_type": "markdown",
   "source": [
    "## 2.6.5 No NULL references\n",
    "NULL (or null) hides missing design: a field that can be null usually means an object is being used in more than one role. Instead of temporary \"unset\" state, model the absence explicitly or split responsibilities."
   ],
   "id": "2b2520bd02babb89"
  },
  {
   "metadata": {
    "ExecuteTime": {
     "end_time": "2025-09-11T23:17:45.067741Z",
     "start_time": "2025-09-11T23:17:43.221303Z"
    }
   },
   "cell_type": "code",
   "source": [
    "// Bad: nullable, mutable field with ad-hoc null checks\n",
    "final class MutableUserBad(private val id: Int) {\n",
    "  private var name: String = null // sentinel state\n",
    "  def setName(n: String): Unit = { name = n }\n",
    "  def greet(): String = if (name != null) s\"Hello, $name\" else \"Hello\" // repetitive null logic\n",
    "}\n",
    "\n",
    "val bad = new MutableUserBad(1)\n",
    "println(bad.greet())      // \"Hello\" (anonymous by implicit null)\n",
    "bad.setName(\"Alice\")\n",
    "println(bad.greet())      // \"Hello, Alice\" (state meaning changed)"
   ],
   "id": "da25a87c287236fb",
   "outputs": [
    {
     "name": "stdout",
     "output_type": "stream",
     "text": [
      "Hello\n",
      "Hello, Alice\n"
     ]
    },
    {
     "data": {
      "text/plain": [
       "defined \u001B[32mclass\u001B[39m \u001B[36mMutableUserBad\u001B[39m\n",
       "\u001B[36mbad\u001B[39m: \u001B[32mMutableUserBad\u001B[39m = ammonite.$sess.cmd26$Helper$MutableUserBad@f239e4d"
      ]
     },
     "execution_count": 26,
     "metadata": {},
     "output_type": "execute_result"
    }
   ],
   "execution_count": 26
  },
  {
   "metadata": {},
   "cell_type": "markdown",
   "source": "Better: force construction with all required data (immutability ⇒ no null possible).",
   "id": "19aefa8236f4d553"
  },
  {
   "metadata": {
    "ExecuteTime": {
     "end_time": "2025-09-11T23:17:47.610190Z",
     "start_time": "2025-09-11T23:17:46.901980Z"
    }
   },
   "cell_type": "code",
   "source": [
    "final case class PersonName(value: String) // tiny value object\n",
    "final case class Person(id: Int, name: PersonName) {\n",
    "  def greet: String = s\"Hello, ${name.value}\" // no conditional logic\n",
    "}\n",
    "\n",
    "val p = Person(1, PersonName(\"Alice\"))\n",
    "println(p.greet)"
   ],
   "id": "3b756fd4d7b10401",
   "outputs": [
    {
     "name": "stdout",
     "output_type": "stream",
     "text": [
      "Hello, Alice\n"
     ]
    },
    {
     "data": {
      "text/plain": [
       "defined \u001B[32mclass\u001B[39m \u001B[36mPersonName\u001B[39m\n",
       "defined \u001B[32mclass\u001B[39m \u001B[36mPerson\u001B[39m\n",
       "\u001B[36mp\u001B[39m: \u001B[32mPerson\u001B[39m = \u001B[33mPerson\u001B[39m(id = \u001B[32m1\u001B[39m, name = \u001B[33mPersonName\u001B[39m(value = \u001B[32m\"Alice\"\u001B[39m))"
      ]
     },
     "execution_count": 27,
     "metadata": {},
     "output_type": "execute_result"
    }
   ],
   "execution_count": 27
  },
  {
   "metadata": {},
   "cell_type": "markdown",
   "source": "If absence is a real, domain concept, model it explicitly instead of encoding it as null.",
   "id": "83b1880aedba9ad2"
  },
  {
   "metadata": {
    "ExecuteTime": {
     "end_time": "2025-09-11T23:17:59.333610Z",
     "start_time": "2025-09-11T23:17:58.561708Z"
    }
   },
   "cell_type": "code",
   "source": [
    "sealed trait PersonRef { def greet: String }\n",
    "final case class NamedPerson(id: Int, name: PersonName) extends PersonRef {\n",
    "  override def greet: String = s\"Hello, ${name.value}\" }\n",
    "final case class AnonymousPerson(id: Int) extends PersonRef {\n",
    "  override def greet: String = \"Hello\" }\n",
    "\n",
    "val people: List[PersonRef] = List(NamedPerson(2, PersonName(\"Bob\")), AnonymousPerson(3))\n",
    "people.foreach(p => println(p.greet))"
   ],
   "id": "8fe5b276200a6db",
   "outputs": [
    {
     "name": "stdout",
     "output_type": "stream",
     "text": [
      "Hello, Bob\n",
      "Hello\n"
     ]
    },
    {
     "data": {
      "text/plain": [
       "defined \u001B[32mtrait\u001B[39m \u001B[36mPersonRef\u001B[39m\n",
       "defined \u001B[32mclass\u001B[39m \u001B[36mNamedPerson\u001B[39m\n",
       "defined \u001B[32mclass\u001B[39m \u001B[36mAnonymousPerson\u001B[39m\n",
       "\u001B[36mpeople\u001B[39m: \u001B[32mList\u001B[39m[\u001B[32mPersonRef\u001B[39m] = \u001B[33mList\u001B[39m(\n",
       "  \u001B[33mNamedPerson\u001B[39m(id = \u001B[32m2\u001B[39m, name = \u001B[33mPersonName\u001B[39m(value = \u001B[32m\"Bob\"\u001B[39m)),\n",
       "  \u001B[33mAnonymousPerson\u001B[39m(id = \u001B[32m3\u001B[39m)\n",
       ")"
      ]
     },
     "execution_count": 29,
     "metadata": {},
     "output_type": "execute_result"
    }
   ],
   "execution_count": 29
  },
  {
   "metadata": {},
   "cell_type": "markdown",
   "source": "Option is acceptable when a value is truly optional, but keep it at the boundary—prefer distinct types when behavior changes.",
   "id": "7aeaeee79f14bf96"
  },
  {
   "metadata": {
    "ExecuteTime": {
     "end_time": "2025-09-11T23:18:02.140077Z",
     "start_time": "2025-09-11T23:18:01.416484Z"
    }
   },
   "cell_type": "code",
   "source": [
    "final case class PersonWithOption(id: Int, name: Option[PersonName]) {\n",
    "  def greet: String = name.fold(\"Hello\")(n => s\"Hello, ${n.value}\")\n",
    "}\n",
    "println(PersonWithOption(4, None).greet)\n",
    "println(PersonWithOption(5, Some(PersonName(\"Eve\"))).greet)"
   ],
   "id": "e4e6652e0a9961e9",
   "outputs": [
    {
     "name": "stdout",
     "output_type": "stream",
     "text": [
      "Hello\n",
      "Hello, Eve\n"
     ]
    },
    {
     "data": {
      "text/plain": [
       "defined \u001B[32mclass\u001B[39m \u001B[36mPersonWithOption\u001B[39m"
      ]
     },
     "execution_count": 30,
     "metadata": {},
     "output_type": "execute_result"
    }
   ],
   "execution_count": 30
  },
  {
   "metadata": {},
   "cell_type": "markdown",
   "source": [
    "Takeaways (No NULL references):\n",
    "- Null encodes “missing type design,” not just “missing data.”\n",
    "- Immutability + mandatory constructor params eliminate accidental nulls.\n",
    "- Use distinct tiny classes (Named/Anonymous) or Option for true optionality.\n",
    "- Fewer sentinel states ⇒ simpler, safer, more maintainable code."
   ],
   "id": "1762fe1f0edff01b"
  },
  {
   "metadata": {},
   "cell_type": "markdown",
   "source": [
    "## 2.6.6 Thread safety\n",
    "Mutable shared state + unsynchronized writes = race conditions and transiently broken invariants."
   ],
   "id": "389044d7f2cc54d3"
  },
  {
   "metadata": {},
   "cell_type": "code",
   "outputs": [],
   "execution_count": null,
   "source": [
    "// Not thread-safe: two fields updated in two steps\n",
    "final class MutableCashTS(private var dollars: Int, private var cents: Int) {\n",
    "  def mul(f: Int): Unit = { // race window between the two writes\n",
    "    dollars *= f\n",
    "    // Simulate a bit of work to enlarge the race window\n",
    "    Thread.`yield`()\n",
    "    cents *= f\n",
    "  }\n",
    "  override def toString: String = f\"$$$dollars%d.$cents%02d\"\n",
    "}\n",
    "\n",
    "val shared = new MutableCashTS(15, 10)\n",
    "val latch  = new java.util.concurrent.CountDownLatch(1)\n",
    "val pool   = java.util.concurrent.Executors.newFixedThreadPool(4)\n",
    "(1 to 2).foreach { _ =>\n",
    "  pool.submit(new Runnable { override def run(): Unit = { latch.await(); shared.mul(2); println(shared) } })\n",
    "}\n",
    "latch.countDown() // start both threads\n",
    "pool.shutdown()"
   ],
   "id": "ebd5a2eb0b6be996"
  },
  {
   "metadata": {},
   "cell_type": "markdown",
   "source": "You can occasionally observe an impossible state (like $60.20) where only one field was updated twice.",
   "id": "1ae1d2ac0a50b955"
  },
  {
   "metadata": {},
   "cell_type": "markdown",
   "source": "### Synchronized fix (works, but adds contention)",
   "id": "1ae837a80377fe04"
  },
  {
   "metadata": {},
   "cell_type": "code",
   "outputs": [],
   "execution_count": null,
   "source": [
    "final class MutableCashSync(private var dollars: Int, private var cents: Int) {\n",
    "  def mul(f: Int): Unit = this.synchronized {\n",
    "    dollars *= f\n",
    "    Thread.sleep(2) // exaggerate lock holding\n",
    "    cents *= f\n",
    "  }\n",
    "  override def toString: String = f\"$$$dollars%d.$cents%02d\"\n",
    "}\n",
    "\n",
    "val syncShared = new MutableCashSync(15, 10)\n",
    "val latch2  = new java.util.concurrent.CountDownLatch(1)\n",
    "val pool2   = java.util.concurrent.Executors.newFixedThreadPool(2)\n",
    "(1 to 2).foreach { _ => pool2.submit(new Runnable { override def run(): Unit = { latch2.await(); syncShared.mul(2); println(s\"sync: $syncShared\") } }) }\n",
    "latch2.countDown()\n",
    "pool2.shutdown()"
   ],
   "id": "71af09d3f3511943"
  },
  {
   "metadata": {},
   "cell_type": "markdown",
   "source": "Locks serialize access; safe but slower and prone to deadlocks in more complex graphs.",
   "id": "9ecb33f1b7a9f0ed"
  },
  {
   "metadata": {},
   "cell_type": "markdown",
   "source": "### Immutable alternative (inherently thread-safe)",
   "id": "b6730381a7fb92bd"
  },
  {
   "metadata": {},
   "cell_type": "code",
   "outputs": [],
   "execution_count": null,
   "source": [
    "import scala.concurrent.{Future, Await}\n",
    "import scala.concurrent.duration.*\n",
    "import scala.concurrent.ExecutionContext.Implicits.global\n",
    "\n",
    "final case class CashImm(dollars: Int, cents: Int) {\n",
    "  def mul(f: Int): CashImm = copy(dollars = dollars * f, cents = cents * f)\n",
    "  override def toString: String = f\"$$$dollars%d.$cents%02d\"\n",
    "}\n",
    "\n",
    "val base = CashImm(15, 10)\n",
    "val factors = List(2,2)\n",
    "val futures = Future.traverse(factors)(f => Future(base.mul(f)))\n",
    "val results = Await.result(futures, 2.seconds)\n",
    "println(s\"Original: $base  Results: ${results.mkString(\", \")}\")"
   ],
   "id": "3ba4059156e0832e"
  },
  {
   "metadata": {},
   "cell_type": "markdown",
   "source": "Each thread works on its own new object; no shared mutation, no races, no locks.",
   "id": "eaa4a55b33eec997"
  },
  {
   "metadata": {},
   "cell_type": "markdown",
   "source": [
    "Takeaways (Thread safety):\n",
    "- Races stem from interleaved writes to shared mutable state.\n",
    "- Synchronization fixes correctness but adds contention & complexity.\n",
    "- Immutability sidesteps the problem: no in-place mutation to protect.\n",
    "- Prefer designing objects so concurrent use only reads shared data or creates new values.\n"
   ],
   "id": "b1a46bcfae9d63d4"
  }
 ],
 "metadata": {
  "kernelspec": {
   "display_name": "Scala",
   "language": "scala",
   "name": "scala"
  },
  "language_info": {
   "codemirror_mode": "text/x-scala",
   "file_extension": ".sc",
   "mimetype": "text/x-scala",
   "name": "scala",
   "nbconvert_exporter": "script",
   "version": "2.13.16"
  }
 },
 "nbformat": 4,
 "nbformat_minor": 5
}
